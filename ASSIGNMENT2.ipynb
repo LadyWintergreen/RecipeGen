{
  "cells": [
    {
      "attachments": {},
      "cell_type": "markdown",
      "metadata": {
        "id": "dokj3AV9zI6Z"
      },
      "source": [
        "# Assignment 2\n",
        "### Elizabeth Perry | 32968302\n",
        "\n",
        "The core technical ideas of this code are adapted from the material presented in the Week 8 and Week 9 tutorial. This was predominantly a concession to the logistical difficulties of training using batched Dataloaders when handling varied sequence lengths - attempts to use packed padded sequences proved to carry too much technical burden to be within scope of the assignment. This does mean that I cannot conduct training on as many iterations of the data as I would like, but ultimately the results are still interesting to evaluate.\n"
      ]
    },
    {
      "cell_type": "code",
      "execution_count": 2,
      "metadata": {
        "colab": {
          "base_uri": "https://localhost:8080/"
        },
        "id": "VWU237IjzI6e",
        "outputId": "c778e636-b51a-419e-dcb9-1d58072a617f"
      },
      "outputs": [],
      "source": [
        "#Generic imports and OS settings\n",
        "import os\n",
        "import csv\n",
        "import glob\n",
        "import matplotlib\n",
        "os.environ['CUDA_LAUNCH_BLOCKING'] = \"1\" #useful in testing to prevent model compile issues"
      ]
    },
    {
      "cell_type": "code",
      "execution_count": 3,
      "metadata": {
        "id": "fZldjD8hzI6h"
      },
      "outputs": [],
      "source": [
        "## Requirements\n",
        "from __future__ import unicode_literals, print_function, division\n",
        "from io import open\n",
        "import unicodedata\n",
        "import string\n",
        "import re\n",
        "import random\n",
        "from tqdm import trange\n",
        "import torch\n",
        "import nltk \n",
        "import numpy as np\n",
        "\n",
        "#Other imports\n",
        "from numpy import transpose\n",
        "import torch.nn as nn\n",
        "from torch import optim\n",
        "import torch.nn.functional as F\n",
        "from nltk.translate.bleu_score import sentence_bleu\n",
        "from nltk.translate import meteor\n",
        "from nltk.corpus import stopwords\n",
        "\n"
      ]
    },
    {
      "cell_type": "code",
      "execution_count": 4,
      "metadata": {},
      "outputs": [],
      "source": [
        "# boilerplate declaration of hyperparameters\n",
        "\n",
        "device = torch.device(\"cuda\" if torch.cuda.is_available() else \"cpu\")\n",
        "teacher_forcing_ratio = 1\n",
        "ITERCOUNT = 60000\n",
        "MAX_LENGTH = 150 \n",
        "LEARNING_RATE = 0.001\n"
      ]
    },
    {
      "attachments": {},
      "cell_type": "markdown",
      "metadata": {
        "id": "nhSqk3xOzI6i"
      },
      "source": [
        "# Data Loading and Preprocessing"
      ]
    },
    {
      "attachments": {},
      "cell_type": "markdown",
      "metadata": {
        "id": "k8pfH3G-zI6l"
      },
      "source": [
        "### Language Class\n",
        "\n",
        "The language is a useful helper tool to convert from word string space to word vector space. Every word simply has a numerical index in the language and can thus be represented as a one-hot vector. Lang exposes methods to easily convert between word and vector space, as well as methods to check whether the word is registered in the language, and to add sentences worth of words to the language."
      ]
    },
    {
      "cell_type": "code",
      "execution_count": 5,
      "metadata": {
        "id": "GIF75UoszI6o"
      },
      "outputs": [],
      "source": [
        "SOS_token = 0\n",
        "EOS_token = 1\n",
        "\n",
        "\n",
        "class Lang:\n",
        "    def __init__(self, name):\n",
        "        self.name = name\n",
        "        self.word2index = {}\n",
        "        self.word2count = {}\n",
        "        self.index2word = {0: \"SOS\", 1: \"EOS\"}\n",
        "        self.n_words = 2  # Count SOS and EOS\n",
        "\n",
        "    def addSentence(self, sentence):\n",
        "        for word in sentence.split(' '):\n",
        "            self.addWord(word)\n",
        "\n",
        "    def addWord(self, word):\n",
        "        if word not in self.word2index:\n",
        "            self.word2index[word] = self.n_words\n",
        "            self.word2count[word] = 1\n",
        "            self.index2word[self.n_words] = word\n",
        "            self.n_words += 1\n",
        "        else:\n",
        "            self.word2count[word] += 1\n",
        "\n",
        "    def stoi(self, word): # helper method to convert string to index\n",
        "        return self.word2index[word]\n",
        "    \n",
        "    def itos(self, ndx): # helper method to convert indexes to string\n",
        "        return self.index2word[ndx]\n",
        "    \n",
        "    def contains(self, word):\n",
        "        if word in self.word2index:\n",
        "            return True\n",
        "        return False"
      ]
    },
    {
      "attachments": {},
      "cell_type": "markdown",
      "metadata": {
        "id": "Jhpa39gqzI6q"
      },
      "source": [
        "Helper method to trim unwanted characters and standardise strings. Also converts unicode data to Ascii data for this purpose."
      ]
    },
    {
      "cell_type": "code",
      "execution_count": 6,
      "metadata": {
        "id": "bCghv1VyzI6q"
      },
      "outputs": [],
      "source": [
        "def unicodeToAscii(s):\n",
        "    return ''.join(\n",
        "        c for c in unicodedata.normalize('NFD', s)\n",
        "        if unicodedata.category(c) != 'Mn'\n",
        "    )\n",
        "\n",
        "# Lowercase, trim, and remove non-letter characters\n",
        "\n",
        "def normalizeString(s):\n",
        "    s = unicodeToAscii(s.lower().strip())\n",
        "    s = re.sub(r\"([.!?])\", r\" \\1\", s)\n",
        "    s = re.sub(r\"[^a-zA-Z.!?]+\", r\" \", s)\n",
        "    return s"
      ]
    },
    {
      "attachments": {},
      "cell_type": "markdown",
      "metadata": {},
      "source": [
        "## RECIPE DATA PROCESSING\n",
        "\n",
        "The recipe processing pipeline is as follows: \n",
        "1. process raw text extracts recipe pairs from the raw text folders by calling text-to-recipe.\n",
        "2. text-to-recipe uses regex capture groups to crawl the recipe file string and extract the recipe steps along with ingredients lists as matched pairs\n",
        "3. recipes are cleaned up with data normalisation, stopword removal, and preprocessing\n",
        "4. write-tsv writes recipes into new .tsv files\n",
        "\n",
        "these TSV files are our new data\n",
        "\n",
        "5. extract pairs pulls the data from the tsv files\n",
        "6. the pairs are passed into build-language\n",
        "7. the remaining objects will be three lists (one each for training, dev, and test sets) along with two Lang type objects (one for the ingredients language, and the other for the recipe language)"
      ]
    },
    {
      "cell_type": "code",
      "execution_count": 7,
      "metadata": {},
      "outputs": [
        {
          "name": "stderr",
          "output_type": "stream",
          "text": [
            "[nltk_data] Downloading package stopwords to\n",
            "[nltk_data]     C:\\Users\\marks\\AppData\\Roaming\\nltk_data...\n",
            "[nltk_data]   Package stopwords is already up-to-date!\n"
          ]
        }
      ],
      "source": [
        "nltk.download('stopwords')\n",
        "\n",
        "stop_words = set(stopwords.words('english'))\n",
        "measurements = {\"c\", \"tsp\", \"tbsp\", \"qt\", \"cn\", \"lb\", \"ts\", \"ea\", \"lg\", \"tb\"}\n",
        "stop_words.update(measurements)\n",
        "\n",
        "\n",
        "def trim_stopwords(text):\n",
        "    output = \" \".join([word for word in str(text).split() if word not in stop_words])\n",
        "    output = output.lower()\n",
        "    return output\n",
        "\n",
        "def recipe_cleanup(all_recipes):\n",
        "    outputs = []\n",
        "    for recipe in all_recipes:\n",
        "        clean_ing = trim_stopwords(recipe[0])\n",
        "        clean_step = trim_stopwords(recipe[1])\n",
        "        outputs.append((clean_ing, clean_step))\n",
        "    return outputs"
      ]
    },
    {
      "cell_type": "code",
      "execution_count": 8,
      "metadata": {},
      "outputs": [],
      "source": [
        "def text_to_recipe_processing(line):\n",
        "    title = re.findall(r'Title: (.*)', line)\n",
        "    ingredients = re.findall(r'ingredients: (.*)', line)\n",
        "    steps = re.findall(r'ingredients: .*\\n([\\s\\S]*)', line)\n",
        "    try:\n",
        "        title = title[0]\n",
        "        title = re.sub(r'[^a-zA-Z ]', '', title) #remove non-alpha or underscore characters\n",
        "        title = re.sub(r'\\s+', ' ', title) #remove excess spaces\n",
        "        ingredients = ingredients[0].replace('''\\t''', \" \") #replace tab with space for better formatting\n",
        "        ingredients = re.sub(r'[^a-zA-Z ]', '', ingredients)\n",
        "        ingredients = re.sub(r'\\s+', ' ', ingredients)\n",
        "        steps = steps[0].replace('''\\n''', \" \") #replace newline in steps with space\n",
        "        steps = re.sub(r'[^a-zA-Z ]', '', steps)\n",
        "        steps = re.sub(r'\\s+', ' ', steps)\n",
        "    except:\n",
        "        return None\n",
        "    return (str(title + \" \" + ingredients), str(steps))\n",
        "\n",
        "def process_rawtext(path):\n",
        "    print(\"Processing text data from {}\".format(path))\n",
        "    recipes = []\n",
        "    files = glob.glob(path + \"/*.txt\")\n",
        "    for file in files:\n",
        "        lines = open(file, encoding='utf-8').read().strip().split(\"END RECIPE\")\n",
        "        for l in lines:\n",
        "            recipe = text_to_recipe_processing(l)\n",
        "            if recipe is not None:\n",
        "                recipes.append(recipe)\n",
        "    return recipes\n",
        "\n",
        "def write_to_tsv(destination, recipe_list):\n",
        "    with open(destination, 'w',  newline='') as csvfile:\n",
        "        writer = csv.writer(csvfile, delimiter='\\t')\n",
        "        for recipe in recipe_list:\n",
        "            writer.writerow(recipe)\n",
        "\n",
        "def build_language(data_paths):\n",
        "    all_ingredients = []\n",
        "    all_recipes = []\n",
        "    for path in data_paths: #manual path list:\n",
        "        recipes = extract_pairs(path)\n",
        "        for r in recipes:\n",
        "            all_ingredients.append(r[0])\n",
        "            all_recipes.append(r[1])\n",
        "    ingredient_lang = Lang(\"ingredients\")\n",
        "    recipe_lang = Lang(\"recipes\")\n",
        "    for ing in all_ingredients:\n",
        "        ingredient_lang.addSentence(ing)\n",
        "    for rec in all_recipes:\n",
        "        recipe_lang.addSentence(rec)\n",
        "    return ingredient_lang, recipe_lang\n"
      ]
    },
    {
      "cell_type": "code",
      "execution_count": 7,
      "metadata": {},
      "outputs": [
        {
          "name": "stdout",
          "output_type": "stream",
          "text": [
            "Processing text data from Cooking_Dataset/train\n",
            "Processing text data from Cooking_Dataset/dev\n",
            "Processing text data from Cooking_Dataset/test\n"
          ]
        }
      ],
      "source": [
        "\n",
        "###Recipes without stopwords\n",
        "# Only run this cell to re-process the data.\n",
        "train_recipes = process_rawtext(\"Cooking_Dataset/train\")\n",
        "cleaned_train = recipe_cleanup(train_recipes)\n",
        "write_to_tsv(\"Clean_Data/train.tsv\", cleaned_train)\n",
        "dev_recipes = process_rawtext(\"Cooking_Dataset/dev\")\n",
        "cleaned_dev = recipe_cleanup(dev_recipes)\n",
        "write_to_tsv(\"Clean_Data/dev.tsv\", cleaned_dev)\n",
        "test_recipes = process_rawtext(\"Cooking_Dataset/test\")\n",
        "cleaned_test = recipe_cleanup(test_recipes)\n",
        "write_to_tsv(\"Clean_Data/test.tsv\", cleaned_test)"
      ]
    },
    {
      "attachments": {},
      "cell_type": "markdown",
      "metadata": {
        "id": "TyAuHpoGzI6s"
      },
      "source": [
        "Pairs can be later extracted from the .tsv files and returned as recipes, after being filtered for passing max length and the strings normalised (just in case any stray data makes it through the cleanup phase)"
      ]
    },
    {
      "cell_type": "code",
      "execution_count": 167,
      "metadata": {
        "id": "JFBL2updzI6t"
      },
      "outputs": [],
      "source": [
        "#Filter pairs only for those below max length.\n",
        "\n",
        "def filterPair(p):\n",
        "    return len(p[0].split(' ')) < MAX_LENGTH and \\\n",
        "        len(p[1].split(' ')) < MAX_LENGTH\n",
        "\n",
        "def filterPairs(pairs):\n",
        "    return [pair for pair in pairs if filterPair(pair)]\n",
        "\n",
        "def extract_pairs(path):\n",
        "    all_recipes = []\n",
        "    file = open(path, 'r')\n",
        "    lines = file.readlines()\n",
        "    for l in lines:\n",
        "        items = [normalizeString(s) for s in l.split(\"\"\"\\t\"\"\")]\n",
        "        all_recipes.append(items)\n",
        "    all_recipes = filterPairs(all_recipes)\n",
        "    return all_recipes"
      ]
    },
    {
      "cell_type": "code",
      "execution_count": 10,
      "metadata": {
        "colab": {
          "base_uri": "https://localhost:8080/"
        },
        "id": "yvic3S4UzI6u",
        "outputId": "4c2fb10f-a4ea-4c6a-b471-b7525b0e821a"
      },
      "outputs": [],
      "source": [
        "## Final data preparation\n",
        "\n",
        "dataset_path = [\"Clean_Data/train.tsv\", \"Clean_Data/dev.tsv\", \"Clean_Data/test.tsv\"]\n",
        "input_lang, output_lang = build_language(dataset_path)\n",
        "pairs = extract_pairs(\"Clean_Data/train.tsv\")\n",
        "dev_pairs = extract_pairs(\"Clean_Data/dev.tsv\")\n",
        "test_pairs = extract_pairs(\"Clean_Data/test.tsv\")"
      ]
    },
    {
      "attachments": {},
      "cell_type": "markdown",
      "metadata": {},
      "source": [
        "#### Data Summary Statistics"
      ]
    },
    {
      "cell_type": "code",
      "execution_count": 79,
      "metadata": {},
      "outputs": [],
      "source": [
        "def pair_summary_stats(pairs, name):\n",
        "    ingredients = [pairs[i][0] for i in range(len(pairs))]\n",
        "    recipes = [pairs[i][1] for i in range(len(pairs))]\n",
        "    ingredient_stats = [len(r) for r in ingredients]\n",
        "    recipe_stats = [len(r) for r in recipes]\n",
        "    ing_stats = summary_statistics(ingredient_stats)\n",
        "    rec_stats = summary_statistics(recipe_stats)\n",
        "    print(\"Number of samples in {} set: {}\".format(name, len(pairs)))\n",
        "    print(\"Maximum length of ingredients from {} set: {}\".format(name, ing_stats[0]))\n",
        "    print(\"Minimum length of ingredients from {} set: {}\".format(name, ing_stats[1]))\n",
        "    print(\"Mean length of ingredients from {} set: {}\".format(name, ing_stats[2]))\n",
        "    print(\"Maximum length of recipes from {} set: {}\".format(name, rec_stats[0]))\n",
        "    print(\"Minimum length of recipes from {} set: {}\".format(name, rec_stats[1]))\n",
        "    print(\"Mean length of recipes from {} set: {}\".format(name, rec_stats[2]))\n",
        "    print(\"###\")\n",
        "\n",
        "def summary_statistics(input_list):\n",
        "    l_max = max(input_list)\n",
        "    l_min = min(input_list)\n",
        "    l_mean = sum(input_list)/len(input_list)\n",
        "    return (l_max, l_min, l_mean)"
      ]
    },
    {
      "cell_type": "code",
      "execution_count": 80,
      "metadata": {},
      "outputs": [
        {
          "name": "stdout",
          "output_type": "stream",
          "text": [
            "Length of ingredients corpus: 32496\n",
            "Length of recipes corpus: 34141\n",
            "######\n",
            "Number of samples in train set: 55848\n",
            "Maximum length of ingredients from train set: 988\n",
            "Minimum length of ingredients from train set: 11\n",
            "Mean length of ingredients from train set: 174.76840710499928\n",
            "Maximum length of recipes from train set: 1131\n",
            "Minimum length of recipes from train set: 0\n",
            "Mean length of recipes from train set: 338.1704805901733\n",
            "###\n",
            "Number of samples in validation set: 281\n",
            "Maximum length of ingredients from validation set: 568\n",
            "Minimum length of ingredients from validation set: 18\n",
            "Mean length of ingredients from validation set: 164.60142348754448\n",
            "Maximum length of recipes from validation set: 970\n",
            "Minimum length of recipes from validation set: 5\n",
            "Mean length of recipes from validation set: 319.55160142348757\n",
            "###\n",
            "Number of samples in test set: 300\n",
            "Maximum length of ingredients from test set: 462\n",
            "Minimum length of ingredients from test set: 33\n",
            "Mean length of ingredients from test set: 166.25\n",
            "Maximum length of recipes from test set: 947\n",
            "Minimum length of recipes from test set: 20\n",
            "Mean length of recipes from test set: 332.80333333333334\n",
            "###\n"
          ]
        }
      ],
      "source": [
        "print(\"Length of ingredients corpus: {}\".format(input_lang.n_words))\n",
        "print(\"Length of recipes corpus: {}\".format(output_lang.n_words))\n",
        "print(\"######\")\n",
        "pair_summary_stats(pairs, \"train\")\n",
        "pair_summary_stats(dev_pairs, \"validation\")\n",
        "pair_summary_stats(test_pairs, \"test\")"
      ]
    },
    {
      "attachments": {},
      "cell_type": "markdown",
      "metadata": {
        "id": "imdZM1z3zI6v"
      },
      "source": [
        "### MODEL DEFINITION - MODEL ONE\n",
        "\n",
        "Model One is a vanilla Seq2Seq neural network consisting of an encoder and a decoder working in concert to convert from one sequence space to the other. Each recurrent block in the Encoder consists of an input layer, and an embedding layer, which pass inputs to an LSTM. The LSTM passes along an output state, a hidden state, and a cell state (relevant for the \"forget\" gate in the LSTM's memory system). The final output of the Encoder will be the context vector, representing the 'context' of the previous input space."
      ]
    },
    {
      "cell_type": "code",
      "execution_count": 11,
      "metadata": {
        "id": "_YTIJriszI6w"
      },
      "outputs": [],
      "source": [
        "class EncoderRNN(nn.Module):\n",
        "    def __init__(self, input_size, hidden_size):\n",
        "        super(EncoderRNN, self).__init__()\n",
        "        self.hidden_size = hidden_size\n",
        "        self.input_size = input_size\n",
        "        self.embedding = nn.Embedding(input_size, hidden_size)\n",
        "        # self.gru = nn.GRU(hidden_size, hidden_size)\n",
        "        self.lstm = nn.LSTM(hidden_size, hidden_size)\n",
        "\n",
        "    def forward(self, input, hidden, cell):\n",
        "        embedded = self.embedding(input).view(1, 1, -1)\n",
        "        output = embedded\n",
        "        output, (hidden, cell) = self.lstm(output, (hidden, cell))\n",
        "        return output, hidden, cell\n",
        "\n",
        "    def initHidden(self):\n",
        "        return torch.zeros(1, 1, self.hidden_size, device=device)"
      ]
    },
    {
      "attachments": {},
      "cell_type": "markdown",
      "metadata": {},
      "source": [
        "The Decoder works in a similar fashion."
      ]
    },
    {
      "cell_type": "code",
      "execution_count": 26,
      "metadata": {
        "id": "zVdYy0A8zI6x"
      },
      "outputs": [],
      "source": [
        "class DecoderRNN(nn.Module):\n",
        "    def __init__(self, hidden_size, output_size):\n",
        "        super(DecoderRNN, self).__init__()\n",
        "        self.hidden_size = hidden_size\n",
        "        self.lstm = nn.LSTM(hidden_size, hidden_size)\n",
        "        self.embedding = nn.Embedding(output_size, hidden_size)\n",
        "        self.gru = nn.GRU(hidden_size, hidden_size)\n",
        "        self.out = nn.Linear(hidden_size, output_size)\n",
        "        self.softmax = nn.LogSoftmax(dim=1)\n",
        "\n",
        "    def forward(self, input, hidden, cell):\n",
        "        output = self.embedding(input).view(1, 1, -1)\n",
        "        output = F.relu(output)\n",
        "        output, (hidden, cell) = self.lstm(output, (hidden, cell))\n",
        "        output = self.softmax(self.out(output[0]))\n",
        "        return output, hidden, cell\n",
        "\n",
        "    def initHidden(self):\n",
        "        return torch.zeros(1, 1, self.hidden_size, device=device)\n"
      ]
    },
    {
      "attachments": {},
      "cell_type": "markdown",
      "metadata": {
        "id": "_anYBECZzI6y"
      },
      "source": [
        "#### Preparing Training data\n",
        "\n",
        "One final step of preprocessing is needed before we can start the model training - we need to pass the word vectors in to torch tensors on the correct device. These helper functions enable that process at scale."
      ]
    },
    {
      "cell_type": "code",
      "execution_count": 13,
      "metadata": {
        "id": "WR_e0NCpzI6y"
      },
      "outputs": [],
      "source": [
        "def indexesFromSentence(lang, sentence):\n",
        "    return [lang.word2index[word] for word in sentence.split(' ')]\n",
        "\n",
        "\n",
        "def tensorFromSentence(lang, sentence):\n",
        "    indexes = indexesFromSentence(lang, sentence)\n",
        "    indexes.append(EOS_token)\n",
        "    return torch.tensor(indexes, dtype=torch.long, device=device).view(-1, 1)\n",
        "\n",
        "\n",
        "def tensorsFromPair(pair, input_lang, output_lang):\n",
        "    input_tensor = tensorFromSentence(input_lang, pair[0])\n",
        "    target_tensor = tensorFromSentence(output_lang, pair[1])\n",
        "    return (input_tensor, target_tensor)"
      ]
    },
    {
      "attachments": {},
      "cell_type": "markdown",
      "metadata": {
        "id": "TiQI6_KUzI6z"
      },
      "source": [
        "#### Training the Model\n",
        "\n",
        "The model is trained by passing in an input sentence, converting them to tensors, and then passing the encoder's states through each step of the sentence. The process is repeated for the decoder, and NLLLoss checked at each decoding step.\n",
        "\n",
        "“Teacher forcing” is the concept of using the real target outputs as each next input, instead of using the decoder’s guess as the next input. Using teacher forcing causes it to converge faster [but when the trained network is exploited, it may exhibit instability](http://citeseerx.ist.psu.edu/viewdoc/download?doi=10.1.1.378.4095&rep=rep1&type=pdf). Here, since the teacher forcing ratio is set to 1, the model's outputs will always be teacher forced."
      ]
    },
    {
      "cell_type": "code",
      "execution_count": 69,
      "metadata": {
        "id": "uzyLpmtWzI6z"
      },
      "outputs": [],
      "source": [
        "teacher_forcing_ratio = 1\n",
        "\n",
        "\n",
        "def train(input_tensor, target_tensor, encoder, decoder, encoder_optimizer, decoder_optimizer, criterion, max_length=MAX_LENGTH):\n",
        "    encoder_hidden = encoder.initHidden()\n",
        "    encoder_cell = encoder_hidden\n",
        "\n",
        "    encoder_optimizer.zero_grad()\n",
        "    decoder_optimizer.zero_grad()\n",
        "\n",
        "    input_length = input_tensor.size(0)\n",
        "    target_length = target_tensor.size(0)\n",
        "\n",
        "    encoder_outputs = torch.zeros(max_length, encoder.hidden_size, device=device)\n",
        "\n",
        "    loss = 0\n",
        "\n",
        "    for ei in range(input_length):\n",
        "        encoder_output, encoder_hidden, encoder_cell = encoder(\n",
        "            input_tensor[ei], encoder_hidden, encoder_cell)\n",
        "        encoder_outputs[ei] = encoder_output[0, 0]\n",
        "\n",
        "    decoder_input = torch.tensor([[SOS_token]], device=device)\n",
        "\n",
        "    decoder_hidden = encoder_hidden\n",
        "    decoder_cell = decoder_hidden\n",
        "\n",
        "    use_teacher_forcing = True \n",
        "    # if random.random() < teacher_forcing_ratio else False\n",
        "\n",
        "    if use_teacher_forcing:\n",
        "        # Teacher forcing: Feed the target as the next input\n",
        "        for di in range(target_length):\n",
        "            decoder_output, decoder_hidden, decoder_cell = decoder(\n",
        "                decoder_input, decoder_hidden, decoder_cell)\n",
        "            loss += criterion(decoder_output, target_tensor[di])\n",
        "            decoder_input = target_tensor[di]  # Teacher forcing\n",
        "\n",
        "    else:\n",
        "        # Without teacher forcing: use its own predictions as the next input\n",
        "        for di in range(target_length):\n",
        "            decoder_output, decoder_hidden = decoder(\n",
        "                decoder_input, decoder_hidden)\n",
        "            topv, topi = decoder_output.topk(1)\n",
        "            decoder_input = topi.squeeze().detach()  # detach from history as input\n",
        "\n",
        "            loss += criterion(decoder_output, target_tensor[di])\n",
        "            if decoder_input.item() == EOS_token:\n",
        "                break\n",
        "\n",
        "    loss.backward()\n",
        "\n",
        "    encoder_optimizer.step()\n",
        "    decoder_optimizer.step()\n",
        "\n",
        "    return loss.item() / target_length\n"
      ]
    },
    {
      "attachments": {},
      "cell_type": "markdown",
      "metadata": {},
      "source": [
        "### Plotting Helper Fn"
      ]
    },
    {
      "cell_type": "code",
      "execution_count": 70,
      "metadata": {},
      "outputs": [],
      "source": [
        "import matplotlib.pyplot as plt\n",
        "plt.switch_backend('agg')\n",
        "import matplotlib.ticker as ticker\n",
        "import numpy as np\n",
        "%matplotlib inline\n",
        "    \n",
        "def showPlot(points):\n",
        "    plt.figure()\n",
        "    fig, ax = plt.subplots()\n",
        "    # this locator puts ticks at regular intervals\n",
        "    loc = ticker.MultipleLocator(base=0.2)\n",
        "    ax.yaxis.set_major_locator(loc)\n",
        "    plt.plot(points)"
      ]
    },
    {
      "attachments": {},
      "cell_type": "markdown",
      "metadata": {
        "id": "WQyK8PaJzI60"
      },
      "source": [
        "A validation function to calculate validation loss using torch.no_grad()\n",
        "\n"
      ]
    },
    {
      "cell_type": "code",
      "execution_count": 129,
      "metadata": {
        "id": "nQk3Npc6zI61"
      },
      "outputs": [],
      "source": [
        "def validate(encoder, decoder, target_tensor, input_tensor, criterion, max_length=MAX_LENGTH):\n",
        "    with torch.no_grad():\n",
        "        input_length = input_tensor.size()[0]\n",
        "        encoder_hidden = encoder.initHidden()\n",
        "        encoder_cell = encoder_hidden\n",
        "        loss = 0\n",
        "\n",
        "        encoder_outputs = torch.zeros(max_length, encoder.hidden_size, device=device)\n",
        "\n",
        "        for ei in range(input_length):\n",
        "            encoder_output, encoder_hidden, encoder_cell = encoder(\n",
        "                input_tensor[ei], encoder_hidden, encoder_cell)\n",
        "            encoder_outputs[ei] = encoder_output[0, 0]\n",
        "\n",
        "        decoder_input = torch.tensor([[SOS_token]], device=device)  # SOS\n",
        "\n",
        "        decoder_hidden = encoder_hidden\n",
        "        decoder_cell = decoder_hidden\n",
        "\n",
        "        decoded_words = []\n",
        "        decoder_attentions = torch.zeros(max_length, max_length)\n",
        "\n",
        "        for di in range(max_length):\n",
        "            decoder_output, decoder_hidden, decoder_cell = decoder(\n",
        "                decoder_input, decoder_hidden, decoder_cell)\n",
        "            topv, topi = decoder_output.data.topk(1)\n",
        "            if topi.item() == EOS_token:\n",
        "                decoded_words.append('<EOS>')\n",
        "                break\n",
        "            else:\n",
        "                decoded_words.append(output_lang.index2word[topi.item()])\n",
        "            try:\n",
        "                loss += criterion(decoder_output, target_tensor[di])\n",
        "            except:\n",
        "                break\n",
        "            decoder_input = topi.squeeze().detach()\n",
        "        if type(loss) == int:\n",
        "            return 0\n",
        "        return loss.item()/len(decoded_words)\n"
      ]
    },
    {
      "attachments": {},
      "cell_type": "markdown",
      "metadata": {},
      "source": [
        "The training process is as follows:\n",
        "1. Declare empty arrays to store plot and validation losses\n",
        "2. Declare new encoder and decoder optimisers, pass training and validation sets into pairs\n",
        "3. Using tqdm to time, iterate through training set calling train.\n",
        "4. Check validation set on plot_every iterations\n",
        "5. Print diagnostics where applicable"
      ]
    },
    {
      "cell_type": "code",
      "execution_count": 142,
      "metadata": {
        "id": "4NQNyNEozI60"
      },
      "outputs": [],
      "source": [
        "def trainIters(encoder, decoder, n_iters, input_lang, output_lang, val_data, print_every=1000, plot_every=100, learning_rate=0.001):\n",
        "    plot_losses = []\n",
        "    val_losses = []\n",
        "    print_loss_total = 0  # Reset every print_every\n",
        "    plot_loss_total = 0  # Reset every plot_every\n",
        "    val_loss_total = 0\n",
        "    skipped = 0 #In some cases, validation will fail to return a loss at all due to no text being generated - I skip over this input and track skipped validation data.\n",
        "\n",
        "    encoder_optimizer = optim.SGD(encoder.parameters(), lr=learning_rate)\n",
        "    decoder_optimizer = optim.SGD(decoder.parameters(), lr=learning_rate)\n",
        "    training_pairs = [tensorsFromPair(random.choice(pairs), input_lang, output_lang)\n",
        "                      for i in range(n_iters)]\n",
        "    validation_pairs = [tensorsFromPair(random.choice(val_data), input_lang, output_lang)\n",
        "                      for i in range(n_iters)]\n",
        "    criterion = nn.NLLLoss()\n",
        "\n",
        "    for iter in trange(1, n_iters + 1):\n",
        "        training_pair = training_pairs[iter - 1]\n",
        "        input_tensor = training_pair[0]\n",
        "        target_tensor = training_pair[1]\n",
        "        loss = train(input_tensor, target_tensor, encoder,\n",
        "                     decoder, encoder_optimizer, decoder_optimizer, criterion)\n",
        "        print_loss_total += loss\n",
        "        plot_loss_total += loss\n",
        "\n",
        "        val_pair = random.choice(validation_pairs)\n",
        "        val_target = val_pair[1]\n",
        "        val_input = val_pair[0]\n",
        "        val = validate(encoder, decoder, val_target, val_input, criterion, MAX_LENGTH)\n",
        "        if val == 0: #Sometimes, the validation dataset will return empty loss functions. I am unclear as to why. \n",
        "            #The use of skipped is a workaround to prevent these empty loss results from being counted in the average validation loss.\n",
        "            skipped += 1\n",
        "        if val > 0:\n",
        "            val_loss_total += val\n",
        "\n",
        "        if iter % print_every == 0:\n",
        "            print_loss_avg = print_loss_total / print_every\n",
        "            print_loss_total = 0\n",
        "            print(\"Loss: {}\".format(print_loss_avg))\n",
        "\n",
        "        if iter % plot_every == 0:\n",
        "            val_loss_avg = val_loss_total/(plot_every - skipped)\n",
        "            val_losses.append(val_loss_avg)\n",
        "            val_loss_total = 0\n",
        "            plot_loss_avg = plot_loss_total / plot_every\n",
        "            plot_losses.append(plot_loss_avg)\n",
        "            plot_loss_total = 0\n",
        "            skipped = 0\n",
        "            #Save logs and state dictionaries\n",
        "    torch.save(encoder.state_dict(), \"Checkpoints/Vanilla/encoder{}.pt\".format(n_iters))\n",
        "    torch.save(decoder.state_dict(), \"Checkpoints/Vanilla/decoder{}.pt\".format(n_iters))\n",
        "    np.save(\"Logs/vanilla{}loss.npy\".format(n_iters), plot_losses)\n",
        "    np.save(\"Logs/vanilla{}val.npy\".format(n_iters), val_losses)\n",
        "\n",
        "\n"
      ]
    },
    {
      "attachments": {},
      "cell_type": "markdown",
      "metadata": {},
      "source": [
        "Run the training process for Model 1."
      ]
    },
    {
      "cell_type": "code",
      "execution_count": 143,
      "metadata": {},
      "outputs": [
        {
          "name": "stderr",
          "output_type": "stream",
          "text": [
            " 10%|█         | 6001/60000 [23:18<2:27:34,  6.10it/s]"
          ]
        },
        {
          "name": "stdout",
          "output_type": "stream",
          "text": [
            "Loss: 6.01167427342369\n"
          ]
        },
        {
          "name": "stderr",
          "output_type": "stream",
          "text": [
            " 20%|██        | 12000/60000 [44:47<2:04:16,  6.44it/s]"
          ]
        },
        {
          "name": "stdout",
          "output_type": "stream",
          "text": [
            "Loss: 5.230784060383845\n"
          ]
        },
        {
          "name": "stderr",
          "output_type": "stream",
          "text": [
            " 30%|███       | 18000/60000 [1:06:00<2:50:14,  4.11it/s]"
          ]
        },
        {
          "name": "stdout",
          "output_type": "stream",
          "text": [
            "Loss: 4.970876922685309\n"
          ]
        },
        {
          "name": "stderr",
          "output_type": "stream",
          "text": [
            " 40%|████      | 24000/60000 [1:27:01<2:11:11,  4.57it/s]"
          ]
        },
        {
          "name": "stdout",
          "output_type": "stream",
          "text": [
            "Loss: 4.8197869029979765\n"
          ]
        },
        {
          "name": "stderr",
          "output_type": "stream",
          "text": [
            " 50%|█████     | 30001/60000 [1:48:08<1:37:09,  5.15it/s]"
          ]
        },
        {
          "name": "stdout",
          "output_type": "stream",
          "text": [
            "Loss: 4.7081981038880425\n"
          ]
        },
        {
          "name": "stderr",
          "output_type": "stream",
          "text": [
            " 60%|██████    | 36001/60000 [2:09:14<1:00:45,  6.58it/s]"
          ]
        },
        {
          "name": "stdout",
          "output_type": "stream",
          "text": [
            "Loss: 4.624873697099794\n"
          ]
        },
        {
          "name": "stderr",
          "output_type": "stream",
          "text": [
            " 70%|███████   | 42000/60000 [2:30:19<58:57,  5.09it/s]  "
          ]
        },
        {
          "name": "stdout",
          "output_type": "stream",
          "text": [
            "Loss: 4.543440661695724\n"
          ]
        },
        {
          "name": "stderr",
          "output_type": "stream",
          "text": [
            " 80%|████████  | 48000/60000 [2:51:09<42:08,  4.75it/s]  "
          ]
        },
        {
          "name": "stdout",
          "output_type": "stream",
          "text": [
            "Loss: 4.493748255321167\n"
          ]
        },
        {
          "name": "stderr",
          "output_type": "stream",
          "text": [
            " 90%|█████████ | 54001/60000 [3:12:18<20:00,  5.00it/s]  "
          ]
        },
        {
          "name": "stdout",
          "output_type": "stream",
          "text": [
            "Loss: 4.446555407344327\n"
          ]
        },
        {
          "name": "stderr",
          "output_type": "stream",
          "text": [
            "100%|██████████| 60000/60000 [3:33:34<00:00,  4.68it/s]"
          ]
        },
        {
          "name": "stdout",
          "output_type": "stream",
          "text": [
            "Loss: 4.387106930192298\n"
          ]
        },
        {
          "name": "stderr",
          "output_type": "stream",
          "text": [
            "\n"
          ]
        }
      ],
      "source": [
        "hidden_size = 256\n",
        "encoder1 = EncoderRNN(input_lang.n_words, hidden_size)\n",
        "encoder1.to(device)\n",
        "decoder1 = DecoderRNN(hidden_size, output_lang.n_words)\n",
        "decoder1.to(device)\n",
        "\n",
        "trainIters(encoder1, decoder1, 60000, input_lang=input_lang, output_lang=output_lang, val_data = dev_pairs, print_every=6000, plot_every=100)"
      ]
    },
    {
      "attachments": {},
      "cell_type": "markdown",
      "metadata": {
        "id": "GstsNPB_zI61"
      },
      "source": [
        "#### Evaluation\n",
        "\n",
        "Evaluation is conducted similarly to the validation function, but since there is no target output, we cannot track the loss criterion. Thus we just iterate through the inputs and feed them to the decoder, ending if we encounter the <EOS> token."
      ]
    },
    {
      "cell_type": "code",
      "execution_count": 14,
      "metadata": {
        "id": "zHQoRmIezI62"
      },
      "outputs": [],
      "source": [
        "def evaluate(encoder, decoder, sentence, max_length=MAX_LENGTH):\n",
        "    with torch.no_grad():\n",
        "        input_tensor = tensorFromSentence(input_lang, sentence)\n",
        "        input_length = input_tensor.size()[0]\n",
        "        encoder_hidden = encoder.initHidden()\n",
        "        encoder_cell = encoder_hidden\n",
        "\n",
        "        encoder_outputs = torch.zeros(max_length, encoder.hidden_size, device=device)\n",
        "\n",
        "        for ei in range(input_length):\n",
        "            encoder_output, encoder_hidden, encoder_cell = encoder(\n",
        "                input_tensor[ei], encoder_hidden, encoder_cell)\n",
        "            encoder_outputs[ei] = encoder_output[0, 0]\n",
        "\n",
        "        decoder_input = torch.tensor([[SOS_token]], device=device)  # SOS\n",
        "\n",
        "        decoder_hidden = encoder_hidden\n",
        "        decoder_cell = decoder_hidden\n",
        "\n",
        "        decoded_words = []\n",
        "        decoder_attentions = torch.zeros(max_length, max_length)\n",
        "\n",
        "        for di in range(max_length):\n",
        "            decoder_output, decoder_hidden, decoder_cell = decoder(\n",
        "                decoder_input, decoder_hidden, decoder_cell)\n",
        "            topv, topi = decoder_output.data.topk(1)\n",
        "            if topi.item() == EOS_token:\n",
        "                decoded_words.append('<EOS>')\n",
        "                break\n",
        "            else:\n",
        "                decoded_words.append(output_lang.index2word[topi.item()])\n",
        "\n",
        "            decoder_input = topi.squeeze().detach()\n",
        "\n",
        "        return decoded_words"
      ]
    },
    {
      "attachments": {},
      "cell_type": "markdown",
      "metadata": {
        "id": "Z7Vu62-yzI62"
      },
      "source": [
        "We can evaluate random sentences from the training set and print out the input, target, and output to make some subjective quality judgements:"
      ]
    },
    {
      "cell_type": "code",
      "execution_count": 25,
      "metadata": {
        "id": "VnGhPPUnzI62"
      },
      "outputs": [],
      "source": [
        "def evaluateRandomly(encoder, decoder, n=10):\n",
        "    for i in range(n):\n",
        "        pair = random.choice(pairs)\n",
        "        print('>', pair[0])\n",
        "        print('=', pair[1])\n",
        "        output_words= evaluate(encoder, decoder, pair[0])\n",
        "        output_sentence = ' '.join(output_words)\n",
        "        print('<', output_sentence)\n",
        "        print('')"
      ]
    },
    {
      "cell_type": "code",
      "execution_count": 28,
      "metadata": {
        "colab": {
          "base_uri": "https://localhost:8080/"
        },
        "id": "ym6qoZjLzI64",
        "outputId": "a345049c-bbd4-4758-edb3-dc553473beca"
      },
      "outputs": [
        {
          "name": "stdout",
          "output_type": "stream",
          "text": [
            "> tomatoleek soup ripe red tomatoes fresh parsley large leek garlic cloves minced olive oil oz tomato paste dry red wine dill hungarian paprika marjoram thyme salt pepper taste\n",
            "= cut tomatoes quarters parsley process well pureed dice rest tomatoes set aside slice white part leek slices chop tender green leaves discard tougher part leaves wash carefully put leeks large pot along reserved green leaves garlic olive oil cover cups stock bring boil lower heat simmer minutes add pureed diced tomatoes add rest ingredients simmer low heat minutes chill serve nava atlas vegetariana\n",
            "< heat oil heavy large skillet add onion garlic saute tender add tomatoes cook stirring frequently minutes add tomatoes tomato paste cook stirring occasionally add tomatoes tomato paste cook stirring occasionally add tomatoes cook another minutes add tomatoes cook another minutes add salt pepper taste simmer uncovered minutes add salt pepper taste simmer uncovered minutes add salt pepper taste simmer uncovered minutes add salt pepper taste simmer uncovered minutes add tomatoes cook another minutes add salt pepper taste simmer uncovered minutes add tomatoes cook another minutes add salt pepper taste simmer uncovered minutes add tomatoes cook another minutes add salt pepper taste simmer uncovered minutes add tomatoes cook another minutes add salt pepper taste simmer uncovered minutes add tomatoes cook another minutes add salt pepper taste simmer uncovered minutes add tomatoes cook another minutes add salt pepper taste simmer uncovered minutes add tomatoes cook another minutes add salt pepper taste simmer\n",
            "\n",
            "> chinese chicken salad chicken breasts powdered drumstickthighs sesame oil vegetable oil toasted almonds finely squares wanton dough cut chopped inch strips thinly sliced green pk rice noodles onions white part liquid mustard salt chinese fivespice head lettuce shredded\n",
            "= place chicken pot cover w water bring boil simmer min remove drain paper towels place vegetable oil deepfryer heat test readiness dropping rice noodle oil sinks oil nt hot enough pops immediately put dough strips fry light tan color remove drain paper towels divide noodles parts deepfry separately drain paper towels deepfry chicken min remove drain paper towels bone cut strips including skin place chicken meat large bowl add mustard fivespice powder sesame oil soy sauce almonds green onions salt mix well add crispfried wonton strips noodles mix well pile salad bed lettuce nt toss\n",
            "< combine flour salt pepper add chicken broth stir well add chicken broth bring boil reduce heat simmer uncovered hour stirring occasionally add water heat uncovered microwave oven minutes stir cooked rice stir fry minutes add chicken broth stir heat uncovered microwave oven minutes stir rice mixture heat uncovered microwave oven minutes stir rice mixture heat uncovered microwave oven minutes stir rice mixture heat uncovered microwave oven minutes stir rice mixture heat uncovered microwave oven minutes stir rice mixture heat uncovered microwave oven minutes <EOS>\n",
            "\n",
            "> sourdough strawberry cake salt fruit topping flour pt strawberries hulled butter sugar baking powder whipped topping sourdough starter heavy cream nutmeg amaretto heavy cream sugar sugar\n",
            "= mix flour baking powder nutmeg sugar salt cut butter till resembles corse meal beat starter cup heavy cream egg together till well blended pour dry ingredients mix together fork holds together loose ball pat lightly greased floured round square pan set aside rest preheating oven f oven temp bake shortcake minutes lightly browned cool pan turn still warm slice half horizontally wash hull strwberries crush enough make cup mix sugar spread bottom layer shortcake top half heavy cream whipped sugar amaretto slice remaining berries put whipped cream top remaining shortcake berries remaining whipped cream sourdough starter\n",
            "< preheat oven f spray flour x x baking pan melt butter margarine large skillet add flour stir smooth add milk stir well stir milk vanilla pour prepared pan bake minutes cake tests done cool pan minutes remove pan cool completely serving <EOS>\n",
            "\n",
            "> nb potato soup potatoes peeled salt milk celery salt slices onion pepper butter pn pinch cayanne pepper flour chopped parsley\n",
            "= cook potatoes boiling salted water soft drain push strainer blend fine scald milk onion remove onion add milk potatoes slowly large pot melt butter add next five ingredients stir potato mixture simmer minutes add parsley\n",
            "< combine potatoes onion parsley salt pepper large bowl add milk potatoes onion parsley salt pepper mix well add potatoes potato mixture mix well add potatoes potato mixture mix well add potatoes potato mixture mix well pour greased inch square pan bake degrees minutes <EOS>\n",
            "\n",
            "> basic basalmic vinaigrette basalmic vinegar garlic cloves sliced olive oil thinly\n",
            "= whisk ingredients together let stand minutes using remove garlic using\n",
            "< place ingredients blender blend smooth add salt taste <EOS>\n",
            "\n",
            "> okra extravaganza pineapple fresh green pepper bell red julienned fronds included okra chopped bn scallions chopped soy sauce garlic cloves crushed sherry dry inger freshly grated vinegar rice wine\n",
            "= slice pineapple half lengthwise remove fruit pineapple set shells aside remove discard core cut pineapple chunks set aside combine scallions garlic ginger pepper okra soy sauce sherry wok stirfry high heat vegetables tendercrisp minutes add pineapple chunks cover continue cooking minutes spoon pineapple shells serve immediately\n",
            "< combine ingredients except parsley bowl mix well add dressing toss well cover chill hours serving <EOS>\n",
            "\n",
            "> potatoes parmesan butter margarine grated parmesan cheese melted garlic powder fresh idaho potato sliced salt inch thick paprika buttery flavored crackers pepper crushed\n",
            "= medium bowl toss butter potatoes coat small bowl combine remaining ingredients coat potatoes mixture inch microwavesafe pie plate arrange coated potatoes single layer sprinkle remaining crumb mixture cook high minutes potatoes tender turning dish\n",
            "< preheat oven f butter flour baking sheet melt butter skillet add flour cook stirring constantly minutes add flour cook stirring constantly minutes add salt pepper cook stirring constantly minutes add salt pepper cook stirring constantly minutes add salt pepper cook stirring constantly minutes remove heat stir parsley serve hot <EOS>\n",
            "\n",
            "> cabbage kobenhaven casserole beef ground md onion garlic clove minced salt oz tomato sauce cinnamon ground cloves thyme basil cabbage shredded\n",
            "= brown ground beef large skillet onions garlic drain fat add remaining ingredients except cabbage meat mixture simmer minutes put half cabbage quart casserole dish top half meat mixture top remaining cabbage finally top cabbage remaining meat mixture cover casserole bake preheated oven degrees f minutes magazine years ago sent mom easy minutes preparation minutes cooking measure spices lrb transcribed suzanne barnettscott rrb\n",
            "< combine ingredients except parsley bowl add water necessary add water necessary add water necessary add water necessary add water necessary add water necessary add water necessary add water necessary add water necessary add water necessary add water necessary add water necessary add water necessary add water necessary add water necessary add water necessary add water necessary add water necessary add water necessary add water necessary add water necessary add water necessary add water necessary add water necessary add water necessary add water necessary add water necessary add water necessary add salt taste simmer uncovered hour stirring occasionally add water necessary add salt taste simmer uncovered hour stirring occasionally add water necessary add salt taste simmer uncovered hour stirring occasionally add water necessary add water necessary prevent sticking add water necessary add salt taste simmer uncovered hour stirring occasionally add water necessary add salt taste simmer uncovered hour stirring occasionally add\n",
            "\n",
            "> gobi dal lentils cauliflower masoor dal pink lentils ground turmeric sm cauliflower juice lemon md onions finely chopped chicken broth ghee oil oz desiccated coconut ground chili flour freshly ground black pepper salt ground cumin oz raw cashew nuts ground coriander\n",
            "= wash lentils well drain heat ghee oil large saucpan fry onions soften add chili pepper cumin coriander turmeric stir well cook seconds add lentils stir well ensure grain coated add lemon juice cut cauliflower small florets add pan add chicken stock coconut bring boil simmer minutes mix flour liquid form smooth paste stir saucepan add salt cashews cook minutes lentils formed thick sauce\n",
            "< wash lentils cut pork inch cubes place bowl add salt pepper mix well add salt pork pork cover simmer hour <EOS>\n",
            "\n",
            "> ginger peach chicken x chicken breast halves salt oz peach slices lite syrup sliced water chestnutsdrain cornstarch hot cooked rice grated gingerroot oz pkg frozen pea pods cooked\n",
            "= large skillet nonstick spray preheat skillet medium heat add chicken cook medium heat minutes till tender longer pink turn brown evenly remove skillet keep warm meanwhile drain peaches reserving juice add water juice equal cup stir cornstarch gingerroot salt add skillet cook stir till thickened bubbly cook stir minute heat serving platter individual plates arrange rice pea pods chicken spoon sauce chicken\n",
            "< combine flour salt pepper stir chicken broth heat boiling stirring constantly boil uncovered stirring constantly boil uncovered stirring constantly boil uncovered stirring constantly boil uncovered stirring constantly boil uncovered stirring constantly boil uncovered stirring constantly boil uncovered stirring constantly boil minutes stir cornstarch mixture heat uncovered microwave oven minutes stir chicken broth heat boiling reduce heat simmer uncovered minutes stir chicken broth parsley heat boiling reduce heat simmer uncovered minutes stir chicken broth parsley heat boiling reduce heat simmer uncovered minutes stir chicken broth parsley heat boiling reduce heat simmer uncovered minutes stir cornstarch mixture heat uncovered microwave oven minutes stir chicken broth parsley heat boiling reduce heat simmer uncovered minutes stir occasionally remove heat stir parsley serve hot cooked rice <EOS>\n",
            "\n"
          ]
        }
      ],
      "source": [
        "# Demonstrate a few random examples\n",
        "\n",
        "evaluateRandomly(encoder1, decoder1, n=3)"
      ]
    },
    {
      "attachments": {},
      "cell_type": "markdown",
      "metadata": {
        "id": "1qRYuCDwzI64"
      },
      "source": [
        "## MODEL TWO - ATTENTION SEQ2SEQ BASELINE\n",
        "\n",
        "The encoder is not modifiered here, instead, we just modify the decoder by adding a linear attention layer, which is combined with the embedding layer before being fed to the LSTM (as below image, though use \"LSTM\" instead of \"GRU\")."
      ]
    },
    {
      "cell_type": "code",
      "execution_count": 15,
      "metadata": {
        "id": "YAo-3ZvGzI65"
      },
      "outputs": [],
      "source": [
        "class AttnDecoderRNN(nn.Module):\n",
        "    def __init__(self, hidden_size, output_size, dropout_p=0.1, max_length=MAX_LENGTH):\n",
        "        super(AttnDecoderRNN, self).__init__()\n",
        "        self.hidden_size = hidden_size\n",
        "        self.output_size = output_size\n",
        "        self.dropout_p = dropout_p\n",
        "        self.max_length = max_length\n",
        "\n",
        "        self.embedding = nn.Embedding(self.output_size, self.hidden_size)\n",
        "        self.attn = nn.Linear(self.hidden_size * 2, self.max_length)\n",
        "        self.attn_combine = nn.Linear(self.hidden_size * 2, self.hidden_size)\n",
        "        self.dropout = nn.Dropout(self.dropout_p)\n",
        "        self.gru = nn.GRU(self.hidden_size, self.hidden_size)\n",
        "        self.out = nn.Linear(self.hidden_size, self.output_size)\n",
        "        self.lstm = nn.LSTM(self.hidden_size, self.hidden_size)\n",
        "\n",
        "    def forward(self, input, hidden, cell, encoder_outputs): #param encoder_outputs: necessary for computing attention from decoder to all encoder values\n",
        "        embedded = self.embedding(input).view(1, 1, -1)\n",
        "        embedded = self.dropout(embedded)\n",
        "\n",
        "        attn_weights = F.softmax(\n",
        "            self.attn(torch.cat((embedded[0], hidden[0]), 1)), dim=1)\n",
        "        attn_applied = torch.bmm(attn_weights.unsqueeze(0),\n",
        "                                 encoder_outputs.unsqueeze(0))\n",
        "\n",
        "        output = torch.cat((embedded[0], attn_applied[0]), 1)\n",
        "        output = self.attn_combine(output).unsqueeze(0)\n",
        "\n",
        "        output = F.relu(output)\n",
        "        output, (hidden, cell) = self.lstm(output, (hidden, cell))\n",
        "        output, hidden = self.gru(output, hidden)\n",
        "\n",
        "        output = F.log_softmax(self.out(output[0]), dim=1)\n",
        "        return output, hidden, cell, attn_weights\n",
        "\n",
        "    def initHidden(self):\n",
        "        return torch.zeros(1, 1, self.hidden_size, device=device)\n"
      ]
    },
    {
      "attachments": {},
      "cell_type": "markdown",
      "metadata": {
        "id": "0iSlmKKdzI65"
      },
      "source": [
        "#### Attention Training Method\n",
        "\n",
        "This function is particularly important since it is called back to on several occasions, both by the attention-decoder and by the later paired auto-encoder experiment. The below cells follow very similar logic to the training of the Vanilla model, however are adapted slightly to suit the attention output of the attention decoder."
      ]
    },
    {
      "cell_type": "code",
      "execution_count": 80,
      "metadata": {
        "id": "JXNmtVggzI65"
      },
      "outputs": [],
      "source": [
        "teacher_forcing_ratio = 1\n",
        "\n",
        "\n",
        "def train_attn(input_tensor, target_tensor, encoder, decoder, encoder_optimizer, decoder_optimizer, criterion, max_length=MAX_LENGTH):\n",
        "    encoder_hidden = encoder.initHidden()\n",
        "    encoder_cell = encoder_hidden\n",
        "\n",
        "    encoder_optimizer.zero_grad()\n",
        "    decoder_optimizer.zero_grad()\n",
        "\n",
        "    input_length = input_tensor.size(0)\n",
        "    target_length = target_tensor.size(0)\n",
        "\n",
        "    encoder_outputs = torch.zeros(max_length, encoder.hidden_size, device=device)\n",
        "\n",
        "    loss = 0\n",
        "\n",
        "    for ei in range(input_length):\n",
        "        encoder_output, encoder_hidden, encoder_cell = encoder(\n",
        "            input_tensor[ei], encoder_hidden, encoder_cell)\n",
        "        encoder_outputs[ei] = encoder_output[0, 0]\n",
        "\n",
        "    decoder_input = torch.tensor([[SOS_token]], device=device)\n",
        "\n",
        "    decoder_hidden = encoder_hidden\n",
        "    decoder_cell = decoder_hidden\n",
        "\n",
        "    use_teacher_forcing = True if random.random() < teacher_forcing_ratio else False\n",
        "\n",
        "    if use_teacher_forcing:\n",
        "        # Teacher forcing: Feed the target as the next input\n",
        "        for di in range(target_length):\n",
        "            decoder_output, decoder_hidden, decoder_cell, decoder_attention = decoder(\n",
        "                decoder_input, decoder_hidden, decoder_cell, encoder_outputs)\n",
        "            loss += criterion(decoder_output, target_tensor[di])\n",
        "            decoder_input = target_tensor[di]  # Teacher forcing\n",
        "\n",
        "    else:\n",
        "        # Without teacher forcing: use its own predictions as the next input\n",
        "        for di in range(target_length):\n",
        "            decoder_output, decoder_hidden, decoder_cell, decoder_attention = decoder(\n",
        "                decoder_input, decoder_hidden, decoder_cell, encoder_outputs)\n",
        "            topv, topi = decoder_output.topk(1)\n",
        "            decoder_input = topi.squeeze().detach()  # detach from history as input\n",
        "\n",
        "            loss += criterion(decoder_output, target_tensor[di])\n",
        "            if decoder_input.item() == EOS_token:\n",
        "                break\n",
        "\n",
        "    loss.backward()\n",
        "\n",
        "    encoder_optimizer.step()\n",
        "    decoder_optimizer.step()\n",
        "\n",
        "    return loss.item() / target_length\n"
      ]
    },
    {
      "cell_type": "code",
      "execution_count": 139,
      "metadata": {},
      "outputs": [],
      "source": [
        "def validation_attention(encoder, decoder, input_tensor, target_tensor, criterion, max_length = MAX_LENGTH):\n",
        "    with torch.no_grad():\n",
        "        input_length = input_tensor.size()[0]\n",
        "        encoder_hidden = encoder.initHidden()\n",
        "        encoder_cell = encoder_hidden\n",
        "        loss = 0 \n",
        "\n",
        "        encoder_outputs = torch.zeros(max_length, encoder.hidden_size, device=device)\n",
        "\n",
        "        for ei in range(input_length):\n",
        "            encoder_output, encoder_hidden, encoder_cell = encoder(input_tensor[ei],\n",
        "                                                     encoder_hidden, encoder_cell)\n",
        "            encoder_outputs[ei] += encoder_output[0, 0]\n",
        "\n",
        "        decoder_input = torch.tensor([[SOS_token]], device=device)  # SOS\n",
        "\n",
        "        decoder_hidden = encoder_hidden\n",
        "        decoder_cell = decoder_hidden\n",
        "\n",
        "        decoded_words = []\n",
        "        decoder_attentions = torch.zeros(max_length, max_length)\n",
        "\n",
        "        for di in range(max_length):\n",
        "            decoder_output, decoder_hidden, decoder_cell, decoder_attention = decoder(\n",
        "                decoder_input, decoder_hidden, decoder_cell, encoder_outputs)\n",
        "            decoder_attentions[di] = decoder_attention.data\n",
        "            topv, topi = decoder_output.data.topk(1)\n",
        "            if topi.item() == EOS_token:\n",
        "                decoded_words.append('<EOS>')\n",
        "                break\n",
        "            else:\n",
        "                decoded_words.append(output_lang.index2word[topi.item()])\n",
        "            try:\n",
        "                loss += criterion(decoder_output, target_tensor[di])\n",
        "            except:\n",
        "                break\n",
        "            decoder_input = topi.squeeze().detach()\n",
        "        if type(loss) == int:\n",
        "            return 0\n",
        "        return loss.item()/len(decoded_words)"
      ]
    },
    {
      "cell_type": "code",
      "execution_count": 103,
      "metadata": {
        "id": "aRgSWuwWzI66"
      },
      "outputs": [],
      "source": [
        "def test_attention(encoder, decoder, sentence, max_length=MAX_LENGTH):\n",
        "    with torch.no_grad():\n",
        "        input_tensor = tensorFromSentence(input_lang, sentence)\n",
        "        input_length = input_tensor.size()[0]\n",
        "        encoder_hidden = encoder.initHidden()\n",
        "        encoder_cell = encoder_hidden\n",
        "        loss = 0 \n",
        "\n",
        "        encoder_outputs = torch.zeros(max_length, encoder.hidden_size, device=device)\n",
        "\n",
        "        for ei in range(input_length):\n",
        "            encoder_output, encoder_hidden, encoder_cell = encoder(input_tensor[ei],\n",
        "                                                     encoder_hidden, encoder_cell)\n",
        "            encoder_outputs[ei] += encoder_output[0, 0]\n",
        "\n",
        "        decoder_input = torch.tensor([[SOS_token]], device=device)  # SOS\n",
        "\n",
        "        decoder_hidden = encoder_hidden\n",
        "        decoder_cell = decoder_hidden\n",
        "\n",
        "        decoded_words = []\n",
        "        decoder_attentions = torch.zeros(max_length, max_length)\n",
        "\n",
        "        for di in range(max_length):\n",
        "            decoder_output, decoder_hidden, decoder_cell, decoder_attention = decoder(\n",
        "                decoder_input, decoder_hidden, decoder_cell, encoder_outputs)\n",
        "            decoder_attentions[di] = decoder_attention.data\n",
        "            topv, topi = decoder_output.data.topk(1)\n",
        "            if topi.item() == EOS_token:\n",
        "                decoded_words.append('<EOS>')\n",
        "                break\n",
        "            else:\n",
        "                decoded_words.append(output_lang.index2word[topi.item()])\n",
        "\n",
        "            decoder_input = topi.squeeze().detach()\n",
        "\n",
        "        return decoded_words, decoder_attentions[:di + 1]"
      ]
    },
    {
      "cell_type": "code",
      "execution_count": 18,
      "metadata": {
        "id": "5-VObipVzI66"
      },
      "outputs": [],
      "source": [
        "def evaluateRandomly_attn(encoder, decoder, n=10):\n",
        "    for i in range(n):\n",
        "        pair = random.choice(pairs)\n",
        "        print('>', pair[0])\n",
        "        print('=', pair[1])\n",
        "        output_words, attention= test_attention(encoder, decoder, pair[0])\n",
        "        output_sentence = ' '.join(output_words)\n",
        "        print('<', output_sentence)\n",
        "        print('')"
      ]
    },
    {
      "attachments": {},
      "cell_type": "markdown",
      "metadata": {},
      "source": [
        "Define the training loop for the attention decoder."
      ]
    },
    {
      "cell_type": "code",
      "execution_count": 137,
      "metadata": {
        "id": "nE-XmtzYzI66"
      },
      "outputs": [],
      "source": [
        "def trainIters_attn(encoder, decoder, n_iters, input_lang, output_lang, val_data, print_every=1000, plot_every=100, learning_rate=0.001):\n",
        "    plot_losses = []\n",
        "    validation_losses = []\n",
        "    print_loss_total = 0  # Reset every print_every\n",
        "    plot_loss_total = 0  # Reset every plot_every\n",
        "    val_loss_total = 0\n",
        "    skipped = 0\n",
        "\n",
        "    encoder_optimizer = optim.SGD(encoder.parameters(), lr=learning_rate)\n",
        "    decoder_optimizer = optim.SGD(decoder.parameters(), lr=learning_rate)\n",
        "    training_pairs = [tensorsFromPair(random.choice(pairs) , input_lang, output_lang)\n",
        "                      for i in range(n_iters)]\n",
        "    validation_pairs = [tensorsFromPair(random.choice(val_data), input_lang, output_lang)\n",
        "                    for i in range(n_iters)]\n",
        "    criterion = nn.NLLLoss()\n",
        "\n",
        "    for iter in trange(1, n_iters + 1):\n",
        "        training_pair = training_pairs[iter - 1]\n",
        "        input_tensor = training_pair[0]\n",
        "        target_tensor = training_pair[1]\n",
        "\n",
        "        loss = train_attn(input_tensor, target_tensor, encoder,\n",
        "                     decoder, encoder_optimizer, decoder_optimizer, criterion)\n",
        "        print_loss_total += loss\n",
        "        plot_loss_total += loss\n",
        "        val_pair = random.choice(validation_pairs) \n",
        "        val_target = val_pair[1]\n",
        "        val_input = val_pair[0]\n",
        "        val = validation_attention(encoder, decoder, val_input, val_target, criterion, MAX_LENGTH)\n",
        "        if val == 0:\n",
        "            skipped += 1\n",
        "        if val > 0:\n",
        "            val_loss_total += val\n",
        "\n",
        "        if iter % print_every == 0:\n",
        "            print_loss_avg = print_loss_total / print_every\n",
        "            print_loss_total = 0\n",
        "            print(\"Loss: {}\".format(print_loss_avg))\n",
        "\n",
        "        if iter % plot_every == 0:\n",
        "            val_loss_avg = val_loss_total/(plot_every - skipped)\n",
        "            validation_losses.append(val_loss_avg)\n",
        "            val_loss_total = 0\n",
        "            plot_loss_avg = plot_loss_total / plot_every\n",
        "            plot_losses.append(plot_loss_avg)\n",
        "            plot_loss_total = 0\n",
        "            skipped = 0\n",
        "    torch.save(encoder.state_dict(), \"Checkpoints/Attention/attnencoder{}.pt\".format(n_iters))\n",
        "    torch.save(decoder.state_dict(), \"Checkpoints/Attention/attndecoder{}.pt\".format(n_iters))\n",
        "    np.save(\"Logs/attention{}loss.npy\".format(n_iters), plot_losses)\n",
        "    np.save(\"Logs/attention{}val.npy\".format(n_iters), validation_losses)\n"
      ]
    },
    {
      "cell_type": "code",
      "execution_count": 144,
      "metadata": {
        "colab": {
          "base_uri": "https://localhost:8080/",
          "height": 364
        },
        "id": "4P1wpz0tzI67",
        "outputId": "c4988887-a8b0-4321-cf15-56b29ea0489f"
      },
      "outputs": [
        {
          "name": "stderr",
          "output_type": "stream",
          "text": [
            " 10%|▉         | 5999/60000 [37:20<4:39:02,  3.23it/s] "
          ]
        },
        {
          "name": "stdout",
          "output_type": "stream",
          "text": [
            "Loss: 5.949467415304352\n"
          ]
        },
        {
          "name": "stderr",
          "output_type": "stream",
          "text": [
            " 20%|██        | 12000/60000 [1:13:52<3:56:01,  3.39it/s]"
          ]
        },
        {
          "name": "stdout",
          "output_type": "stream",
          "text": [
            "Loss: 5.114380035455693\n"
          ]
        },
        {
          "name": "stderr",
          "output_type": "stream",
          "text": [
            " 30%|███       | 18000/60000 [1:49:42<3:29:36,  3.34it/s] "
          ]
        },
        {
          "name": "stdout",
          "output_type": "stream",
          "text": [
            "Loss: 4.872998334267193\n"
          ]
        },
        {
          "name": "stderr",
          "output_type": "stream",
          "text": [
            " 40%|████      | 24000/60000 [2:26:01<3:36:42,  2.77it/s]"
          ]
        },
        {
          "name": "stdout",
          "output_type": "stream",
          "text": [
            "Loss: 4.716168573595512\n"
          ]
        },
        {
          "name": "stderr",
          "output_type": "stream",
          "text": [
            " 50%|█████     | 30000/60000 [3:01:45<2:56:42,  2.83it/s]"
          ]
        },
        {
          "name": "stdout",
          "output_type": "stream",
          "text": [
            "Loss: 4.6402180986100685\n"
          ]
        },
        {
          "name": "stderr",
          "output_type": "stream",
          "text": [
            " 60%|██████    | 36000/60000 [3:37:40<3:25:34,  1.95it/s]"
          ]
        },
        {
          "name": "stdout",
          "output_type": "stream",
          "text": [
            "Loss: 4.551661718851769\n"
          ]
        },
        {
          "name": "stderr",
          "output_type": "stream",
          "text": [
            " 70%|███████   | 42001/60000 [4:13:13<1:35:39,  3.14it/s]"
          ]
        },
        {
          "name": "stdout",
          "output_type": "stream",
          "text": [
            "Loss: 4.525737135048846\n"
          ]
        },
        {
          "name": "stderr",
          "output_type": "stream",
          "text": [
            " 80%|████████  | 48000/60000 [4:49:34<1:01:06,  3.27it/s]"
          ]
        },
        {
          "name": "stdout",
          "output_type": "stream",
          "text": [
            "Loss: 4.450942743113782\n"
          ]
        },
        {
          "name": "stderr",
          "output_type": "stream",
          "text": [
            " 90%|█████████ | 54000/60000 [5:25:03<26:11,  3.82it/s]  "
          ]
        },
        {
          "name": "stdout",
          "output_type": "stream",
          "text": [
            "Loss: 4.442907087643225\n"
          ]
        },
        {
          "name": "stderr",
          "output_type": "stream",
          "text": [
            "100%|██████████| 60000/60000 [6:00:59<00:00,  2.77it/s]"
          ]
        },
        {
          "name": "stdout",
          "output_type": "stream",
          "text": [
            "Loss: 4.416741010702724\n"
          ]
        },
        {
          "name": "stderr",
          "output_type": "stream",
          "text": [
            "\n"
          ]
        }
      ],
      "source": [
        "hidden_size = 256\n",
        "encoder = EncoderRNN(input_lang.n_words, hidden_size).to(device)\n",
        "attn_decoder = AttnDecoderRNN(hidden_size, output_lang.n_words, dropout_p=0.1).to(device)\n",
        "\n",
        "trainIters_attn(encoder, attn_decoder, 60000, input_lang, output_lang, val_data = dev_pairs, print_every=6000, plot_every=100)"
      ]
    },
    {
      "cell_type": "code",
      "execution_count": 39,
      "metadata": {
        "colab": {
          "base_uri": "https://localhost:8080/"
        },
        "id": "IKWrtbAczI67",
        "outputId": "03b2e647-a0e2-466c-b4cc-c1b5c8b565a6"
      },
      "outputs": [
        {
          "name": "stdout",
          "output_type": "stream",
          "text": [
            "> havregrynskage oat cakes butter unsalted oatmeal instant sugar granulated corn syrup white\n",
            "= melt butter skillet stir sugar add oatmeal cook minutes stirring occasionally oatmeal golden brown remove heat stir corn syrup rinse custard cups muffin tins cold water shake excess moisture pack bottoms sides oatmeal mixture dividing equally refrigerate least hours loosen cakes running knife around edges gently slide serve cold buttermilk soup\n",
            "< mix ingredients together store airtight container <EOS>\n",
            "\n",
            "> herman cinnamon rolls herman salt baking powder flour soda oil margerine stick butter melted brown sugar nuts\n",
            "= mix herman salt baking powder flour soda oil form dough knead lightly roll inch thickness floured surface spread soft margerine sprinkle cinnamon sugar roll jelly roll cut inch slices spread topping bottom x place roll slices top flat side bake oven minutes remove immediately overturning cookie sheet combine stick melted margerine brown sugar nuts\n",
            "< preheat oven f grease muffin tins grease large baking pan combine flour sugar salt cinnamon large bowl mix butter egg whites soft dough turn dough onto lightly floured surface knead smooth elastic minutes turn dough onto floured surface knead smooth elastic minutes turn dough onto floured surface knead smooth elastic minutes turn dough onto floured surface knead smooth elastic minutes turn onto floured surface knead smooth elastic minutes turn dough onto floured surface knead smooth elastic minutes turn onto floured surface knead smooth elastic minutes turn dough onto floured surface knead smooth elastic minutes turn onto floured surface knead smooth elastic minutes turn onto floured surface knead smooth elastic minutes turn onto floured surface knead smooth elastic minutes turn onto floured surface knead smooth elastic minutes turn onto floured surface knead smooth elastic minutes turn onto floured surface knead smooth elastic minutes turn onto lightly floured surface knead smooth elastic\n",
            "\n",
            "> huntington chicken pound hen cream shell macaroni butter velveeta cheese diced flour broth bread crumbs\n",
            "= stew chicken season taste cut cubes cook macaroni salt water drain thicken broth flour mix chicken macaroni cheese broth put x inch pan brown bread crumbs butter add cream mix spread top chicken mixture bake degrees minutes\n",
            "< preheat oven degrees f butter flour salt pepper large bowl combine eggs milk egg white mix well add butter mixture mix well pour mixture greased quart casserole cover microwave high minutes heated <EOS>\n",
            "\n",
            "> tourta athineiki orangewalnut cakeathens style butter sweet granulated sugar eggs orangejuice grated rind allpurpose flour baking powder salt walnuts coarsely chopped confectioners sugar opt\n",
            "= cream butter light fluffy gradually add sugar continuing beat add eggs one time beating well medium speed addition gradually add orange juice rind meanwhile sift flour baking powder salt gradually add batter add walnuts last blend another minute medium high speed pour greased lightly floured inch tube pan bake moderate oven lrb f rrb minutes color light chestnut cake springs back touch lrb watch carefully cake bakes quickly rrb turn onto wire rack round side dust confectioners sugar cool thoroughly slicing\n",
            "< preheat oven f butter flour baking powder salt large bowl cream butter sugar together beat eggs one time beat eggs one time beating well addition sift flour baking powder salt add creamed mixture alternately milk mixture mix well pour batter greased floured inch square baking pan bake f minutes turn oven temperature degrees f bake minutes turn oven temperature f bake minutes turn oven temperature degrees f bake minutes turn oven temperature f bake minutes turn oven temperature f bake minutes turn oven temperature f bake minutes turn oven temperature f bake minutes turn oven temperature degrees f bake minutes turn oven temperature degrees f <EOS>\n",
            "\n",
            "> doublechocolate layer cake bon appetit oz bittersweet unsweetened semisweet chocolate chopped sticks unsalted butter eggs separated sugar firmly packed brown sugar purpose flour ground toasted hazelnuts cream tartar oz bittersweet unsweetened semisweet chocolate chopped espresso strong coffee stick unsalted butter\n",
            "= preheat oven f butter two inch diameter springform pans inchhigh sides line pans parchment butter parchment melt chocolate butter heavy large saucepan low heat stirring constantly smooth whisk yolks sugars large bowl whisk warm chocolate mixture mix flour nuts using electric mixer beat whites cream tartar another large bowl soft peaks gently fold whites batter several additions divide batter evenly prepared pans bake cakes rise crack top toothpick inserted center comes thick batter still attached minutes cool cakes completely pans racks cover let stand room temperature stir ingredients heavy large saucepan low heat chocolate butter melted mixture smooth refrigerate jus firm enough spread whisking occasionally hour release pan sides cakes turn cakes peel parchment place cake layer platter spread frosting top second cake layer spread remaining frosting top sides cake\n",
            "< preheat oven f butter flour mixing bowl combine butter sugar egg yolks vanilla beat electric mixer medium speed electric mixer medium speed minutes scraping bowl occasionally beat egg whites soft peaks form fold batter gently batter gently fold batter gently fold batter pour batter prepared pan bake minutes toothpick inserted center comes clean cool pan rack <EOS>\n",
            "\n",
            "> baked chicken tomato sauce chicken breasts halves basil chopped tomatoes thyme small onion chopped oregano tomato paste garlic cloves minced sweet red pepper chopped crushed red pepper opt\n",
            "= arrange chicken bottom ovenproof casserole coated nostick spray place tomatoes onions red peppers tomato paste basil thyme oregano garlic red pepper blender process medium speed smooth pour sauce chicken cover bake f minutes remove cover continue baking minutes\n",
            "< combine ingredients except chicken broth bring boil reduce heat simmer minutes stirring occasionally serve chicken <EOS>\n",
            "\n",
            "> mocha chip muffins skim milk cocoa powder safflower oil flour unsweetened applesauce sugar egg substitute egg baking powder instant coffee dissolved cinnamon water semisweet chocolate chips\n",
            "= spray muffin cups vegetable cooking spray preheat oven degrees combine milk oil applesauce egg substitute coffee mixture medium bowl combine remaining ingredients large bowl add wet ingredients dry mixing combined fill muffin cups full bake minutes tester inserted center comes clean\n",
            "< combine flour sugar baking powder salt large bowl mix egg whites oil egg whites beat egg whites soft peaks form fold batter gently fold batter spoon batter greased muffin cups bake f minutes golden brown <EOS>\n",
            "\n",
            "> rhubarb jelly rhubarb cut optional piece pk liquid fruit pectin oz sugar dr red food coloring\n",
            "= grind rhubarb food processor grinder strain jelly bag reserving cup juice pour juice large kettle add sugar food coloring desired bring boil high heat stirring constantly add pectin bring full rolling boil boil min stirring constantly remove heat let stand minutes skim foam pour hot hot jars leaving headspace adjust caps process min boilingwater bath half pints\n",
            "< put ingredients blender food processor process well blended store airtight container <EOS>\n",
            "\n",
            "> spaetzle cheese noodles butter margarine dry mustard onionssliced small rings spaetzle noodles oz emmenthaler cheese grated chives chopped\n",
            "= heat butter frypan add onions brown lightly toss cheese dry mustard add cooked noodles cooked onions cheese mix well place mixture ovenproof casserole bake degrees f minutes hot bubbly sprinkle top chopped chives serving\n",
            "< combine ingredients except butter saucepan bring boil simmer minutes stirring occasionally serve immediately <EOS>\n",
            "\n",
            "> cold capellini squid oz cooked squid thinly sliced shiitake mushrooms cup cup pesto sauce cup tomato vinegar crussy wholegrain rolls cup fresh lemon juice mediumsize bowl salt combine squid freshly ground pepper vinegar lemon juice apellini cooked al dente salt peppper mix cups well cup diced red onion large bowl combine cup cooked peas cooked capellini cup cup thinly sliced\n",
            "= tomato onions peas mushrooms toss mix well add tbls pesto sauce tossing mix well serve divide capellini evenly among four bowls top seasoned squid garnish sprinkle remaining tomato onion peas mushrooms paint edge bowl remaining pesto sauce serve whole grain rolls\n",
            "< combine ingredients mix well pour mixture greased quart casserole cover microwave high minutes heated <EOS>\n",
            "\n"
          ]
        }
      ],
      "source": [
        "evaluateRandomly_attn(encoder, attn_decoder)"
      ]
    },
    {
      "attachments": {},
      "cell_type": "markdown",
      "metadata": {},
      "source": [
        "## MODEL 3 - AUTOENCODERS\n",
        "\n",
        "This is the first extension to the baseline models. Architecturally speaking, the approach here is to 'warm up' the encoders and decoders each by training autoencoders (ie. encoder-decoders training their weights on the same data) for both the ingredient list and the steps. We train each for 20 000 iterations, before continuing the training by loading the state dictionaries, pairing the ingredient encoder and recipe attention decoder, and continuing to fine tune the weights. The actual code of the encoder-decoder pair remains as in Baseline 2 (Attention), but the approach to training is more nuanced."
      ]
    },
    {
      "cell_type": "code",
      "execution_count": 168,
      "metadata": {},
      "outputs": [],
      "source": [
        "#First create new data represent duplicated pairs\n",
        "def re_pair(paired_data):\n",
        "    sources = []\n",
        "    targets = []\n",
        "    for i in paired_data:\n",
        "        sources.append([i[0], i[0]])\n",
        "        targets.append([i[1], i[1]])\n",
        "    return sources, targets\n",
        "\n",
        "training_pairs = extract_pairs(\"Clean_Data/train.tsv\")\n",
        "train_src, train_trg = re_pair(training_pairs)\n",
        "val_pairs = extract_pairs(\"Clean_Data/dev.tsv\")\n",
        "val_src, val_trg = re_pair(val_pairs)\n",
        "\n",
        "#We can re-use the single-epoch training logic from MODEL TWO but will need to modify the training loop slightly to accept new data and of course save the states.\n",
        "\n",
        "def AE_training_loop(pairs, name, encoder, decoder, n_iters, val_data, input_lang, output_lang, print_every=1000, plot_every=100, learning_rate=0.001):\n",
        "    print_loss_total = 0  # Reset every print_every\n",
        "    plot_loss_total = 0  # Reset every plot_every\n",
        "    val_loss_total = 0\n",
        "    skipped = 0\n",
        "    validation_loss = []\n",
        "    plot_losses = []\n",
        "\n",
        "    encoder_optimizer = optim.SGD(encoder.parameters(), lr=learning_rate)\n",
        "    decoder_optimizer = optim.SGD(decoder.parameters(), lr=learning_rate)\n",
        "    training_pairs = [tensorsFromPair(random.choice(pairs), input_lang, output_lang)\n",
        "                      for i in range(n_iters)]\n",
        "    validation_pairs = [tensorsFromPair(random.choice(val_data), input_lang, output_lang)\n",
        "                    for i in range(n_iters)]\n",
        "    criterion = nn.NLLLoss()\n",
        " \n",
        "    for iter in trange(1, n_iters + 1):\n",
        "        training_pair = training_pairs[iter - 1]\n",
        "        input_tensor = training_pair[0]\n",
        "        target_tensor = training_pair[1]\n",
        "\n",
        "        loss = train_attn(input_tensor, target_tensor, encoder,\n",
        "                     decoder, encoder_optimizer, decoder_optimizer, criterion)\n",
        "        print_loss_total += loss\n",
        "        plot_loss_total += loss\n",
        "        val_pair = random.choice(validation_pairs) \n",
        "        val_target = val_pair[1]\n",
        "        val_input = val_pair[0]\n",
        "        val = validation_attention(encoder, decoder, val_input, val_target, criterion, MAX_LENGTH)\n",
        "        if val == 0:\n",
        "            skipped += 1\n",
        "        if val > 0:\n",
        "            val_loss_total += val\n",
        "\n",
        "        if iter % print_every == 0:\n",
        "            print_loss_avg = print_loss_total / print_every\n",
        "            print_loss_total = 0\n",
        "            print(\"Average Loss: {}\".format(print_loss_avg))\n",
        "        if iter % plot_every == 0:\n",
        "            val_loss_avg = val_loss_total/(plot_every - skipped)\n",
        "            validation_loss.append(val_loss_avg)\n",
        "            val_loss_total = 0\n",
        "            skipped = 0\n",
        "            plot_loss_avg = plot_loss_total / plot_every\n",
        "            plot_losses.append(plot_loss_avg)\n",
        "            plot_loss_total = 0\n",
        "    torch.save(encoder.state_dict(), \"Checkpoints/AE/{}_encoder_{}.pt\".format(name, n_iters))\n",
        "    torch.save(decoder.state_dict(), \"Checkpoints/AE/{}_decoder_{}.pt\".format(name, n_iters))\n",
        "    torch.save(decoder_optimizer.state_dict(), \"Checkpoints/AE/{}_dec_optim_{}.pt\".format(name, n_iters)) #Also necessary to save optimiser state dict to resume training later\n",
        "    torch.save(encoder_optimizer.state_dict(), \"Checkpoints/AE/{}_enc_optim_{}.pt\".format(name, n_iters))\n",
        "    np.save(\"Logs/{}ae{}loss.npy\".format(name, n_iters), plot_losses)\n",
        "    np.save(\"Logs/{}ae{}val.npy\".format(name, n_iters), validation_loss)\n",
        "\n",
        "\n",
        "#Then, train target autoencoder - this can re-use the training function\n",
        "\n",
        "\n"
      ]
    },
    {
      "attachments": {},
      "cell_type": "markdown",
      "metadata": {},
      "source": [
        "#### Autoencoder Training\n",
        "\n",
        "We train both encoders and decoders on the duplicates dataset - ie. the datasets whose pairs are \"ingredients - ingredients\" and \"recipes - recipes\" respectively."
      ]
    },
    {
      "cell_type": "code",
      "execution_count": 171,
      "metadata": {},
      "outputs": [
        {
          "name": "stderr",
          "output_type": "stream",
          "text": [
            " 10%|█         | 1000/10000 [03:51<27:54,  5.38it/s] "
          ]
        },
        {
          "name": "stdout",
          "output_type": "stream",
          "text": [
            "Average Loss: 7.245981218468689\n"
          ]
        },
        {
          "name": "stderr",
          "output_type": "stream",
          "text": [
            " 20%|██        | 2000/10000 [07:48<30:51,  4.32it/s]"
          ]
        },
        {
          "name": "stdout",
          "output_type": "stream",
          "text": [
            "Average Loss: 6.339777260953514\n"
          ]
        },
        {
          "name": "stderr",
          "output_type": "stream",
          "text": [
            " 30%|███       | 3000/10000 [11:52<38:16,  3.05it/s]"
          ]
        },
        {
          "name": "stdout",
          "output_type": "stream",
          "text": [
            "Average Loss: 5.96166446944381\n"
          ]
        },
        {
          "name": "stderr",
          "output_type": "stream",
          "text": [
            " 40%|████      | 4000/10000 [15:55<28:39,  3.49it/s]"
          ]
        },
        {
          "name": "stdout",
          "output_type": "stream",
          "text": [
            "Average Loss: 5.772323729822042\n"
          ]
        },
        {
          "name": "stderr",
          "output_type": "stream",
          "text": [
            " 50%|█████     | 5001/10000 [19:59<20:20,  4.10it/s]"
          ]
        },
        {
          "name": "stdout",
          "output_type": "stream",
          "text": [
            "Average Loss: 5.65826959682522\n"
          ]
        },
        {
          "name": "stderr",
          "output_type": "stream",
          "text": [
            " 60%|██████    | 6000/10000 [24:01<18:36,  3.58it/s]"
          ]
        },
        {
          "name": "stdout",
          "output_type": "stream",
          "text": [
            "Average Loss: 5.569941337027319\n"
          ]
        },
        {
          "name": "stderr",
          "output_type": "stream",
          "text": [
            " 70%|███████   | 7000/10000 [28:05<09:49,  5.08it/s]"
          ]
        },
        {
          "name": "stdout",
          "output_type": "stream",
          "text": [
            "Average Loss: 5.478803830523946\n"
          ]
        },
        {
          "name": "stderr",
          "output_type": "stream",
          "text": [
            " 80%|████████  | 8000/10000 [31:59<07:50,  4.25it/s]"
          ]
        },
        {
          "name": "stdout",
          "output_type": "stream",
          "text": [
            "Average Loss: 5.3995252420516024\n"
          ]
        },
        {
          "name": "stderr",
          "output_type": "stream",
          "text": [
            " 90%|█████████ | 9001/10000 [35:58<03:29,  4.76it/s]"
          ]
        },
        {
          "name": "stdout",
          "output_type": "stream",
          "text": [
            "Average Loss: 5.302742812855185\n"
          ]
        },
        {
          "name": "stderr",
          "output_type": "stream",
          "text": [
            "100%|██████████| 10000/10000 [39:59<00:00,  4.17it/s]"
          ]
        },
        {
          "name": "stdout",
          "output_type": "stream",
          "text": [
            "Average Loss: 5.251057207945068\n"
          ]
        },
        {
          "name": "stderr",
          "output_type": "stream",
          "text": [
            "\n",
            " 10%|█         | 1000/10000 [07:16<1:08:09,  2.20it/s]"
          ]
        },
        {
          "name": "stdout",
          "output_type": "stream",
          "text": [
            "Average Loss: 7.166200953151268\n"
          ]
        },
        {
          "name": "stderr",
          "output_type": "stream",
          "text": [
            " 20%|██        | 2000/10000 [14:33<1:03:02,  2.11it/s]"
          ]
        },
        {
          "name": "stdout",
          "output_type": "stream",
          "text": [
            "Average Loss: 6.1784157494817675\n"
          ]
        },
        {
          "name": "stderr",
          "output_type": "stream",
          "text": [
            " 30%|███       | 3000/10000 [21:29<53:47,  2.17it/s]  "
          ]
        },
        {
          "name": "stdout",
          "output_type": "stream",
          "text": [
            "Average Loss: 5.791866684995427\n"
          ]
        },
        {
          "name": "stderr",
          "output_type": "stream",
          "text": [
            " 40%|████      | 4000/10000 [28:29<45:11,  2.21it/s]  "
          ]
        },
        {
          "name": "stdout",
          "output_type": "stream",
          "text": [
            "Average Loss: 5.622815720750143\n"
          ]
        },
        {
          "name": "stderr",
          "output_type": "stream",
          "text": [
            " 50%|█████     | 5000/10000 [35:23<33:13,  2.51it/s]  "
          ]
        },
        {
          "name": "stdout",
          "output_type": "stream",
          "text": [
            "Average Loss: 5.439821590477546\n"
          ]
        },
        {
          "name": "stderr",
          "output_type": "stream",
          "text": [
            " 60%|██████    | 6000/10000 [42:44<25:45,  2.59it/s]"
          ]
        },
        {
          "name": "stdout",
          "output_type": "stream",
          "text": [
            "Average Loss: 5.29749942078082\n"
          ]
        },
        {
          "name": "stderr",
          "output_type": "stream",
          "text": [
            " 70%|███████   | 7000/10000 [50:07<20:40,  2.42it/s]"
          ]
        },
        {
          "name": "stdout",
          "output_type": "stream",
          "text": [
            "Average Loss: 5.312671556157143\n"
          ]
        },
        {
          "name": "stderr",
          "output_type": "stream",
          "text": [
            " 80%|████████  | 8000/10000 [57:04<17:04,  1.95it/s]"
          ]
        },
        {
          "name": "stdout",
          "output_type": "stream",
          "text": [
            "Average Loss: 5.142024626563884\n"
          ]
        },
        {
          "name": "stderr",
          "output_type": "stream",
          "text": [
            " 90%|█████████ | 9000/10000 [1:03:58<05:47,  2.88it/s]"
          ]
        },
        {
          "name": "stdout",
          "output_type": "stream",
          "text": [
            "Average Loss: 5.093363466739988\n"
          ]
        },
        {
          "name": "stderr",
          "output_type": "stream",
          "text": [
            "100%|██████████| 10000/10000 [1:10:56<00:00,  2.35it/s]"
          ]
        },
        {
          "name": "stdout",
          "output_type": "stream",
          "text": [
            "Average Loss: 4.9673704724803835\n"
          ]
        },
        {
          "name": "stderr",
          "output_type": "stream",
          "text": [
            "\n"
          ]
        }
      ],
      "source": [
        "hidden_size = 256\n",
        "\n",
        "ae_ing_encoder = EncoderRNN(input_lang.n_words, hidden_size).to(device)\n",
        "ae_ing_decoder = AttnDecoderRNN(hidden_size, input_lang.n_words, dropout_p=0.1).to(device)\n",
        "AE_training_loop(train_src, \"ingredients\", ae_ing_encoder, ae_ing_decoder, input_lang=input_lang, val_data=val_src, output_lang=input_lang, n_iters = 10000, print_every=1000, plot_every=100)\n",
        "\n",
        "ae_rec_encoder = EncoderRNN(output_lang.n_words, hidden_size).to(device)\n",
        "ae_rec_decoder = AttnDecoderRNN(hidden_size, output_lang.n_words, dropout_p=0.1).to(device)\n",
        "AE_training_loop(train_trg, \"recipes\", ae_rec_encoder, ae_rec_decoder, input_lang=output_lang, output_lang=output_lang, val_data = val_trg, n_iters=10000, print_every=1000, plot_every=100)"
      ]
    },
    {
      "attachments": {},
      "cell_type": "markdown",
      "metadata": {},
      "source": [
        "Then, staple the warmed up EncoderRNN and DecoderRNN together in new training iteration, and save them as completed Encoder/Decoder pair."
      ]
    },
    {
      "cell_type": "code",
      "execution_count": 174,
      "metadata": {},
      "outputs": [],
      "source": [
        "hidden_size = 256\n",
        "\n",
        "#Instantiate models\n",
        "ingredient_encoder = EncoderRNN(input_lang.n_words, hidden_size).to(device)\n",
        "recipe_decoder = AttnDecoderRNN(hidden_size, output_lang.n_words, dropout_p=0.1).to(device)\n",
        "\n",
        "#Load model state dictionaries\n",
        "ingredient_encoder.load_state_dict(torch.load(\"Checkpoints/AE/ingredients_encoder_10000.pt\"))\n",
        "recipe_decoder.load_state_dict(torch.load(\"Checkpoints/AE/recipes_decoder_10000.pt\"))\n",
        "\n",
        "#Instantiate optimisers\n",
        "encoder_optimizer = optim.SGD(ingredient_encoder.parameters(), lr=0.001)\n",
        "decoder_optimizer = optim.SGD(recipe_decoder.parameters(), lr=0.001)\n",
        "\n",
        "#Load optimiser state dictionaries\n",
        "#This is necessary to avoid unstable loss behaviour.\n",
        "encoder_optimizer.load_state_dict(torch.load(\"Checkpoints/AE/ingredients_enc_optim_10000.pt\"))\n",
        "decoder_optimizer.load_state_dict(torch.load(\"Checkpoints/AE/recipes_dec_optim_10000.pt\"))\n",
        "\n",
        "def AE_fine_tune(encoder, decoder, encoder_optim, decoder_optim, val_data, input_lang, output_lang, n_iters, print_every=1000, plot_every=100, learning_rate=0.001):\n",
        "    plot_losses = []\n",
        "    validation_loss = []\n",
        "    print_loss_total = 0  # Reset every print_every\n",
        "    plot_loss_total = 0  # Reset every plot_every\n",
        "    val_loss_total = 0\n",
        "    skipped = 0\n",
        "\n",
        "    training_pairs = [tensorsFromPair(random.choice(pairs), input_lang, output_lang)\n",
        "                      for i in range(n_iters)]\n",
        "    validation_pairs = [tensorsFromPair(random.choice(val_data), input_lang, output_lang)\n",
        "                    for i in range(n_iters)]\n",
        "    criterion = nn.NLLLoss()\n",
        "\n",
        "    for iter in trange(1, n_iters + 1):\n",
        "        training_pair = training_pairs[iter - 1]\n",
        "        input_tensor = training_pair[0]\n",
        "        target_tensor = training_pair[1]\n",
        "\n",
        "        loss = train_attn(input_tensor, target_tensor, encoder,\n",
        "                     decoder, encoder_optim, decoder_optim, criterion)\n",
        "        print_loss_total += loss\n",
        "        plot_loss_total += loss\n",
        "        #Conduct validation\n",
        "        val_pair = random.choice(validation_pairs) \n",
        "        val_target = val_pair[1]\n",
        "        val_input = val_pair[0]\n",
        "        val = validation_attention(encoder, decoder, val_input, val_target, criterion, MAX_LENGTH)\n",
        "        if val == 0:\n",
        "            skipped += 1\n",
        "        if val > 0:\n",
        "            val_loss_total += val\n",
        "\n",
        "        if iter % print_every == 0:\n",
        "            print_loss_avg = print_loss_total / print_every\n",
        "            print_loss_total = 0\n",
        "        if iter % plot_every == 0:\n",
        "            plot_loss_avg = plot_loss_total / plot_every\n",
        "            plot_losses.append(plot_loss_avg)\n",
        "            plot_loss_total = 0\n",
        "            val_loss_avg = val_loss_total/(plot_every - skipped)\n",
        "            validation_loss.append(val_loss_avg)\n",
        "            val_loss_total = 0\n",
        "            skipped = 0\n",
        "    torch.save(encoder.state_dict(), \"Checkpoints/AE/encoder_fine_tune_{}.pt\".format(n_iters))\n",
        "    torch.save(decoder.state_dict(), \"Checkpoints/AE/decoder_fine_tune_{}.pt\".format(n_iters))\n",
        "    plotloss = np.asarray(plot_losses)\n",
        "    np.save(\"Logs/autoencoder{}loss.npy\".format(n_iters), plotloss)\n",
        "    validloss = np.asarray(validation_loss)\n",
        "    np.save(\"Logs/autoencoder{}val.npy\".format(n_iters), validloss)\n"
      ]
    },
    {
      "cell_type": "code",
      "execution_count": 176,
      "metadata": {},
      "outputs": [
        {
          "name": "stderr",
          "output_type": "stream",
          "text": [
            "100%|██████████| 60000/60000 [6:16:41<00:00,  2.65it/s]  \n"
          ]
        }
      ],
      "source": [
        "AE_fine_tune(ingredient_encoder, recipe_decoder, encoder_optimizer, decoder_optimizer, val_data = dev_pairs, input_lang=input_lang, output_lang = output_lang, n_iters = 60000, plot_every=100, print_every=6000)"
      ]
    },
    {
      "attachments": {},
      "cell_type": "markdown",
      "metadata": {},
      "source": [
        "## MODEL FOUR - ALCHEMY\n",
        "\n",
        "This model is so named due to the fact that it, like alchemy, is a step or two removed from cooking, but fun to experiment with all the same.\n",
        "\n",
        "Here, I build on the work of [PAPER] to create a lightweight heuristic filter for the text generation. Here, I persist the best Seq2Seq model from the previous three (based on its loss metric) as the underlying model. Then, when sampling from the model, I apply a heuristic beam search. This creates a pair of constraints to be satisfied by each line of generated text. Whenever an *ingredient* would be generated, it is checked against the list of ingredients in the ingredients input list, with a small loss reward A more nuanced version of this method might follow Kiddon et. al.'s Neural Checklist Models. Because the Attention weights on the checklists are learned, the importance of the checklist weights in generation can also be learned (here, PyTorch's autograd feature is an elegant way of implementing this). I instead use the heuristic to preferentially persist any beams whose generation meets the constraint over beams which do not. For example:\n",
        "\n",
        "Ingredients:\n",
        "- chicken, paprika, onion, garlic\n",
        "\n",
        "Current generation:\n",
        "- Add the [ ]\n",
        "\n",
        "Beams (k = 2):\n",
        "- onion (loss = 5.6)\n",
        "- carrot (loss = 5.1)\n",
        "- beans (loss = 4.6)\n",
        "- capers (loss = 7.7)\n",
        "\n",
        "Alchemy will select onion, since it meets the constraint despite having a higher loss, and beans, to persist into the next two beams (with the sentence candidates thus being \"Add the onions\" and \"Add the beans\"). This is very lightweight since the heuristic can be applied purely at time of inference, and does not add to the model's training time whatsoever. "
      ]
    },
    {
      "attachments": {},
      "cell_type": "markdown",
      "metadata": {},
      "source": [
        "Candidates are dictionaries of the following form:\n",
        "{\n",
        "    \"in\": the next decoder input vector\n",
        "    \"hidden\": the next candidate decoder hidden state\n",
        "    \"cell\": the next candidate decoder input\n",
        "    \"sentence\": the decoded word history of that beam\n",
        "    \"avg_loss\": the NLLLoss of the generated sentence\n",
        "}"
      ]
    },
    {
      "cell_type": "code",
      "execution_count": 189,
      "metadata": {},
      "outputs": [],
      "source": [
        "#Order of operations for alchemy, which receives two dictionaries representing the results of each beam\n",
        "#for each dictionary, need to process the OUTPUT to create two new candidate dictionaries, \n",
        "def beam_search(k:int, candidates, condition, ingredient_lang:Lang, output_lang, alchemy=True):\n",
        "    unpacked_candidates = []\n",
        "    for c in candidates:\n",
        "        vec = c[\"out\"] #Access output vector\n",
        "        topv, topi = vec.data.topk(k) #Extract top k losses and indices\n",
        "        for i in range(k):\n",
        "            decoder_input = topi[0][i].squeeze().detach() # Get next step of decoder inputs\n",
        "            loss = topv[0][i].item()\n",
        "            word = topi[0][i].item()\n",
        "            new_sentence = c[\"sentence\"]\n",
        "            if \"EOS\" not in new_sentence: #Only add to sentences if the sentence has not ended\n",
        "                new_sentence.append(output_lang.index2word[word])\n",
        "                new_loss = c[\"avg_loss\"] + loss\n",
        "            new_candidate = {\"in\": decoder_input, \"hidden\":c[\"hidden\"], \"cell\":c[\"cell\"], \"sentence\":new_sentence, \"avg_loss\": new_loss} #Compile relevant outputs from previous beam into new candidate dictionaries\n",
        "            unpacked_candidates.append(new_candidate)\n",
        "    unpacked_candidates = sorted(unpacked_candidates, key=lambda d:d[\"avg_loss\"]) # Sort by average losses using lambda function\n",
        "    meets_cond = []\n",
        "    cond_na = []\n",
        "    fails_cond = []\n",
        "    if alchemy:  #Conduct beam search using Alchemy decoding algorithm if applicable\n",
        "        for c in unpacked_candidates:\n",
        "            key_word = c[\"sentence\"][-1]\n",
        "            if ingredient_lang.contains(key_word):\n",
        "                if key_word in condition:\n",
        "                    meets_cond.append(c)\n",
        "                    condition.remove(key_word)\n",
        "                    continue\n",
        "                fails_cond.append(c)\n",
        "                continue\n",
        "            cond_na.append(c)\n",
        "        outputs = meets_cond + cond_na + fails_cond\n",
        "    else:\n",
        "        outputs = unpacked_candidates\n",
        "    stop_clause = False\n",
        "    if \"EOS\" in outputs[0][\"sentence\"]:\n",
        "        if \"EOS\" in outputs[1][\"sentence\"]:\n",
        "            stop_clause = True # Stop if best two outputs are both complete.\n",
        "    return [outputs[0], outputs[1]], stop_clause"
      ]
    },
    {
      "cell_type": "code",
      "execution_count": 194,
      "metadata": {},
      "outputs": [],
      "source": [
        "def alchemy_inference(encoder, decoder, sentence, input_lang, output_lang, k = 2, max_length=MAX_LENGTH):\n",
        "    with torch.no_grad():\n",
        "        condition = sentence.split()\n",
        "        input_tensor = tensorFromSentence(input_lang, sentence)\n",
        "        input_length = input_tensor.size()[0]\n",
        "        encoder_hidden = encoder.initHidden()\n",
        "        encoder_cell = encoder_hidden\n",
        "        loss = 0 \n",
        "\n",
        "        encoder_outputs = torch.zeros(max_length, encoder.hidden_size, device=device)\n",
        "\n",
        "        for ei in range(input_length):\n",
        "            encoder_output, encoder_hidden, encoder_cell = encoder(input_tensor[ei],\n",
        "                                                     encoder_hidden, encoder_cell)\n",
        "            encoder_outputs[ei] += encoder_output[0, 0]\n",
        "\n",
        "        decoder_input = torch.tensor([[SOS_token]], device=device)  # SOS\n",
        "\n",
        "        decoder_hidden = encoder_hidden\n",
        "        decoder_cell = decoder_hidden\n",
        "\n",
        "        decoded_words = []\n",
        "        # decoder_attentions = torch.zeros(max_length, max_length)\n",
        "        beams = [{\"in\":decoder_input, \"hidden\":decoder_hidden, \"cell\":decoder_cell, \"sentence\":[\"<SOS>\"], \"avg_loss\":0}, {\"in\":decoder_input, \"hidden\":decoder_hidden, \"cell\":decoder_cell, \"sentence\":[\"<SOS>\"], \"avg_loss\":0}] #Set initial empty beams\n",
        "        for di in range(max_length):\n",
        "            candidates = []\n",
        "            for beam in beams:\n",
        "                decoder_output, decoder_hidden, decoder_cell, attn = decoder(\n",
        "                    beam['in'], beam['hidden'], beam['cell'], encoder_outputs)\n",
        "                # decoder_attentions[di] = decoder_attention.data\n",
        "                c = {\"out\": decoder_output, \"hidden\": decoder_hidden, \"cell\": decoder_cell, \"sentence\": beam[\"sentence\"], \"avg_loss\": beam[\"avg_loss\"]}\n",
        "                candidates.append(c)\n",
        "            beams, stop_clause = beam_search(k, candidates, condition, input_lang, output_lang)\n",
        "            if stop_clause:\n",
        "                break\n",
        "\n",
        "            # decoder_input = topi.squeeze().detach()  # New decoder input given topk\n",
        "\n",
        "        return beams[0][\"sentence\"] #return the sentence from the most highly ranked beam after alchemy decoding is complete."
      ]
    },
    {
      "cell_type": "code",
      "execution_count": 67,
      "metadata": {},
      "outputs": [
        {
          "name": "stdout",
          "output_type": "stream",
          "text": [
            "> roast corn cob ears fresh sweet corn taste butter margarine additional butter ce cubes salt pepper margarine optional\n",
            "= remove husk silk corn place ear corn piece aluminum foil add tablespoon butter ice cube wrap securely twisting ends make handles turning place corn grill cook minutes turning season salt pepper additional butter desired servings\n",
            "< <SOS> combine melt butter margarine butter large skillet heavy skillet large skillet saucepan medium low heat add heat high onion flour heat add cook stirring cook celery constantly coat stirring medium cook well heat high add cook stirring minutes stirring remove medium minutes heat pan stirring longer heat set remove stirring aside pan occasionally constantly aside heat add remove butter stir cool combine butter flour oil butter salt cook cook butter stirring medium buds brown sugar remove cook add onion wine heat pan mixture cook cook saute minutes golden stirring minutes brown minutes stirring longer stirring remove add remove heat pan heat pan heat keep keep set warm hot stir add add cook butter onion stir mushrooms butter remaining ingredients butter butter tender minutes drain tender minutes fat excess remove stir parsley cream heat pan cook mixture flakes parsley cook return minutes stirring boil heat stirring stir simmer stir reduce simmer mixture butter minutes uncovered mixture melted thickens cook serve add stirring stir salt mushrooms EOS hot simmer cook pepper taste minutes minute minutes another minutes skillet longer stir minutes medium parsley butter high heat stir EOS add EOS butter parsley EOS add serve parsley salt remaining EOS add ingredients butter salt remaining ingredients sauce pepper taste simmer mixture EOS serve cook simmer minutes uncovered minutes hour minutes min serve EOS EOS serve EOS serve EOS immediately EOS hot EOS serve EOS immediately EOS serves EOS cal EOS cal g EOS g EOS EOS g EOS g fat carb fat prot mg fat butter fat mg chol mg gm mg EOS saturated carbohydrates gm mg fat gm fat carbohydrates sod sodium mg gm gm mg carbohydrates fat sod EOS mg gm EOS g fat protein saturated carbohydrates g gm gm mg fat carbohydrates sod EOS gm mg gm mg sodium calcium sodium EOS EOS g EOS mg fat protein calcium EOS g gm EOS g fat carbohydrates fat protein gm mg gm mg sodium calcium sodium EOS EOS mg mg EOS calcium EOS EOS vegetarian EOS mm EOS mg deeanne EOS calcium sodium EOS deeanne mg EOS EOS mm EOS deeanne deeanne sylvia EOS mm deeanne EOS deeanne EOS EOS deeanne EOS deeanne EOS mm EOS mm deeanne EOS deeanne EOS EOS deeanne EOS deeanne EOS mm EOS mm deeanne EOS deeanne EOS EOS deeanne EOS deeanne EOS deeanne EOS deeanne EOS mm EOS mm deeanne EOS deeanne EOS EOS deeanne EOS mm deeanne EOS EOS mm EOS deeanne EOS deeanne EOS mm EOS deeanne deeanne EOS EOS mm deeanne sylvia EOS deeanne EOS steiger EOS deeanne EOS deeanne EOS genie EOS mm EOS cooking deeanne sylvia EOS rsb EOS steiger EOS mm deeanne EOS genie EOS EOS deeanne EOS deeanne EOS deeanne EOS mm deeanne sylvia EOS mm deeanne sylvia EOS steiger EOS steiger EOS deeanne EOS mm genie EOS deeanne EOS EOS rsb EOS deeanne EOS mm EOS deeanne deeanne EOS EOS deeanne EOS deeanne EOS mm EOS deeanne deeanne EOS EOS deeanne EOS deeanne EOS mm deeanne EOS EOS mm deeanne EOS EOS deeanne EOS deeanne EOS deeanne EOS mm EOS mm EOS deeanne deeanne sylvia EOS mm EOS deeanne deeanne EOS EOS mm deeanne EOS EOS deeanne EOS deeanne EOS mm deeanne EOS EOS deeanne EOS lrb EOS deeanne mm wrv EOS mm rrb EOS deeanne sylvia EOS rrb rrb steiger EOS mm rrb EOS deeanne sylvia EOS rrb EOS steiger EOS deeanne EOS deeanne genie EOS EOS mm EOS deeanne deeanne EOS EOS cooking EOS deeanne EOS mm deeanne EOS EOS mm\n",
            "\n",
            "> julias manicotti pk manicotti shells tomatoes crushed large tomatoes whole large tomato paste garlic cloves less onions chopped olive oil black pepper bay leaves basil oregano tarragon thyme rosemary red pepper flakes cayenne pepper taste parsley preferably fresh dry ds red wine dry parsley chopped ricotta eggs mozzarella shredded parmesan cheese grated romano cheese grated black pepper garlic clove crushed\n",
            "= saute onions large pot olive oil medium heat add crushed garlic cook onions start brown add cans tomatoes along paste breaking large chunks add seasonings red wine simmer stirring occasionally minutes mix filling ingredients bowl reserving cup shredded mozzarella sprinkle top preheat oven degrees f cook manicotti al dente lrb follow instructions box rrb drain stuff filling mixture cover baking pan inch sauce arrange stuffed shells top cover sauce reserved mozzarella bake degrees f minutes cheese nicely browned sauce bubbling serves easier stuff okay substitute cover plastic wrap foil let defrost oven hour overnight refrigerator moderate hour preparation minutes baking approximate measurement ok\n",
            "< <SOS> combine preheat oven broiler place combine olive ingredients except large bowl mixing butter parsley bowl well food flakes add combined large food add olive oil olive oil olive olive onion oil olive garlic toss oil olive add large oil olive large add oil olive add large oil olive olive large oil olive olive add oil olive large add oil olive large season oil olive large season oil olive large olive oil olive large olive oil olive olive large oil olive add large oil olive large olive oil olive large olive oil olive add season oil olive olive large oil olive add large oil olive add season oil olive add olive oil olive large olive oil olive large add oil olive large olive oil olive add season oil olive olive add oil olive add large oil olive add season oil olive large season oil olive add large oil olive add large oil olive add season oil olive olive add oil olive olive add oil olive add olive oil olive add olive oil olive add olive oil olive add season oil olive olive add oil olive add large oil olive add season oil olive add large oil olive add olive oil olive add olive oil olive add large oil olive add large oil olive olive add oil olive add season oil olive olive add oil olive add large oil olive add olive oil olive add season oil olive add olive oil olive add large oil olive add large oil olive add large oil olive add olive oil olive add olive oil olive add large oil olive add olive oil olive add olive oil olive olive add oil olive add season oil olive add olive oil olive add olive oil olive add season oil olive add large oil olive add large oil olive add large oil olive add season oil olive add large oil olive add season oil olive add olive oil olive large add oil olive add olive oil olive add olive oil olive add large oil olive olive add oil olive olive add oil olive add olive oil olive add season oil olive olive add oil olive add season oil olive add olive oil olive add olive oil olive add olive oil olive add olive oil olive add olive oil olive add season oil olive add olive oil olive add large oil olive add oil oil olive add garlic oil olive add large oil olive add olive oil olive add large oil olive add large oil olive add olive oil olive add large oil olive add season oil olive add season oil olive add large oil olive add olive oil olive add olive oil olive add olive oil olive add garlic oil olive add large oil olive add season oil olive add season oil olive add olive oil olive add garlic oil olive add olive oil olive add olive oil olive add garlic oil olive add season oil olive olive add oil olive add olive oil olive add olive oil olive add season oil olive add olive oil olive add olive oil olive add large oil olive add large oil olive add large oil olive add olive oil olive add large oil olive add season oil olive add olive oil olive add olive oil olive add olive oil olive add season oil olive add olive oil olive add olive oil olive add olive oil olive add garlic oil olive add garlic oil olive add season oil olive add olive oil olive add olive oil olive add garlic oil olive add garlic\n",
            "\n",
            "> smothered chicken broilers sliced onions flour chicken stock salt sliced carrots frying\n",
            "= clean split broilers rub salt roll flour fry minutes deep hot lard lrb rrb drain paper remove fat put sliced onions carrots heavy pan lay browned chicken top vegetables add stock cover pan tightly bake oven hours remove hot platter\n",
            "< <SOS> put heat oil butter oil saucepan add low heat add onion flour cook stirring cook celery constantly coat carrot carrots cook add cook onion milk water minutes stirring cook milk stirring cook cook stirring stirring minutes constantly smooth stirring remove heat chicken add stir stock broth flour salt cool cut pepper flour pieces small enough slightly pieces dice cut place remove pieces chicken large place add fat heat stir let stock onion cook celery cool stand carrots stock minutes stirring stock broth oil onion simmer cover cover salt simmer cook pepper bring boil simmer minutes low simmer cook simmer reduce minutes stirring heat simmer occasionally liquid simmer cook absorbed thickens minutes liquid absorbed evaporates minutes remove minutes add heat chicken stock broth milk peas return cool cook stir slightly enough stock soup handle make stir return stock soup stock pot thick mix add make paste soup flour milk thick mix flour oil salt lemon milk water juice grass pepper taste EOS season EOS serve salt taste soup add flour soup season stock stir return salt taste soup stock blended well serve blended simmer mixture simmer stir minutes covered well blended minutes another minutes minute serve simmer stir serve minutes covered EOS hot peas milk return cook serve EOS pepper serve stir minutes EOS immediately serve taste serve EOS EOS immediately soup serve immediately hot EOS immediately soup mixture blender stir hot soup mix hot parsley soup soup stock mix thickens serve soup serve EOS season serve serve soup mix simmer EOS immediately minutes covered serve well minutes low serve EOS heat hours serve EOS EOS serve serve EOS EOS immediately EOS serve EOS serves EOS immediately EOS cal EOS serves g EOS EOS cal EOS g g EOS fat carb EOS g fat prot butter fat mg fat mg g mg g sod calcium carb prot EOS mg mg chol mg g mg EOS sod mg EOS container sod calcium EOS mg EOS dish calcium sod EOS serve EOS immediately EOS vegetarian EOS times EOS cal g EOS EOS mm EOS fat deeanne EOS EOS mg EOS g fat carb EOS chol butter g mg g fat carb carb fat mg g mg chol mg g fat protein fat fiber g gm fat carbohydrates g mg mg gm sod calcium fat carbohydrates mg EOS gm mg mg gm calcium sodium cholesterol saturated mg EOS EOS mg EOS vegetarian calcium EOS EOS cookbook EOS mg EOS echo EOS vegetarian EOS cookbook moderator EOS EOS echo EOS mm deeanne EOS moderator echo EOS mm moderator echo deeanne sylvia moderator echo EOS steiger moderator mm genie EOS deeanne EOS EOS deeanne EOS ci EOS gt EOS mm deeanne EOS cookbook EOS EOS deeanne EOS mm deeanne EOS EOS mm deeanne EOS EOS deeanne EOS deeanne EOS mm deeanne EOS EOS mm deeanne EOS EOS deeanne EOS mm EOS cooking deeanne EOS EOS echo EOS deeanne EOS mm deeanne EOS EOS mm EOS deeanne EOS deeanne EOS mm EOS mm deeanne isbn deeanne isbn entered EOS EOS isbn EOS entered EOS deeanne carolyn EOS EOS deeanne EOS carolyn EOS mm deeanne sylvia shaw EOS EOS deeanne EOS steiger EOS mm genie EOS deeanne EOS EOS dish EOS deeanne EOS mm EOS mm deeanne sylvia deeanne EOS EOS steiger EOS deeanne EOS mm deeanne EOS EOS mm deeanne EOS EOS deeanne EOS rsb EOS deeanne EOS mm EOS mm deeanne EOS deeanne sylvia EOS deeanne EOS mm deeanne EOS EOS mm deeanne sylvia EOS deeanne steiger EOS EOS good EOS deeanne EOS rsb\n",
            "\n",
            "> tomato flans cherry tomatoes halved eggs stick butter whipping cream olive oil grated parmesan cheese minced onion grated gruyere cheese tomatoes peeled seeded salt chopped freshly ground pepper\n",
            "= generously butter six cup custard cups ramekins place cherry tomato half skin side cup melt butter oil heavy large skillet medium low heat add onion cook translucent stirring occasionally minutes increase heat cook liquid evaporates stirring frequently cool slightly preheat oven f beat eggs cream blend stir cheeses tomato mixture season salt pepper carefully spoon mixture prepared cups arrange cups roasting pan pour enough water pan come halfway sides cups bake tester inserted centers comes clean minutes let stand minutes run knife around edge cups loosen flans invert onto plates serve immediately\n",
            "< <SOS> combine cook pasta onion butter olive oil butter skillet golden soft golden brown add brown add add lrb rrb minutes milk cream rrb add cheese cook cream tomatoes minutes stirring cook rrb cook cheese cook simmer minutes rrb minutes min minutes remove add remove heat pan heat pan cream salt heat set pepper taste aside low EOS serve heat fat EOS immediately pan aside stir cook cool large melt heat skillet saucepan butter stir cream parsley oil butter saucepan butter basil chives salt basil saucepan butter salt basil saucepan large salt oregano skillet saucepan basil salt pepper black pepper oregano pepper taste pepper basil EOS add salt oregano taste serve basil parsley pepper taste EOS add flakes chives cream pasta simmer salt toss mixture pepper taste EOS add toss cook pasta cream EOS mixture mixture cheese toss cook mixture mix minutes pasta well thoroughly al according serve EOS package directions add serve immediately EOS EOS immediately pasta parmesan cheese toss mixture toss serve gently serve coat serve coat EOS immediately serve pasta EOS immediately serve EOS EOS immediately EOS serve immediately EOS EOS immediately EOS dish EOS lrb EOS cal wrv grams g EOS grams rrb rrb EOS EOS milligrams EOS rrb EOS sodium EOS milligrams EOS sodium EOS milligrams EOS milligrams EOS milligrams EOS cholesterol EOS sodium EOS milligrams EOS milligrams EOS sodium EOS sodium EOS milligrams EOS milligrams EOS cholesterol EOS cholesterol EOS milligrams EOS milligrams EOS sodium EOS sodium EOS milligrams EOS mg EOS cholesterol EOS cholesterol EOS milligrams EOS mg EOS sodium EOS sodium EOS mg EOS mg EOS cholesterol EOS vegetarian EOS cookbook EOS mg EOS echo EOS calcium EOS moderator EOS mg EOS netnode EOS calcium EOS mg EOS mm EOS deeanne EOS calcium EOS mm EOS gm EOS deeanne EOS fat EOS mm EOS deeanne EOS deeanne EOS mm EOS deeanne EOS milligrams EOS sodium EOS mm EOS deeanne EOS milligrams EOS milligrams EOS deeanne EOS sodium EOS milligrams EOS milligrams EOS sodium EOS sodium EOS milligrams EOS milligrams EOS sodium EOS cholesterol EOS milligrams EOS milligrams EOS cholesterol EOS sodium EOS milligrams EOS milligrams EOS sodium EOS sodium EOS milligrams EOS milligrams EOS sodium EOS milligrams EOS milligrams EOS sodium EOS sodium EOS milligrams EOS milligrams EOS cholesterol EOS sodium EOS milligrams EOS milligrams EOS sodium EOS milligrams EOS milligrams EOS sodium EOS sodium EOS milligrams EOS sodium EOS milligrams EOS milligrams EOS milligrams EOS cholesterol EOS sodium EOS milligrams EOS milligrams EOS sodium EOS milligrams EOS milligrams EOS sodium EOS milligrams EOS milligrams EOS sodium EOS sodium EOS mg EOS milligrams EOS cholesterol EOS sodium EOS mg EOS mg EOS cholesterol EOS cholesterol EOS mg EOS mg EOS sodium EOS sodium EOS mg mg EOS EOS calcium EOS g EOS protein EOS mg EOS calcium g gm EOS mg fat carbohydrates EOS calcium gm mg EOS mg EOS mg EOS calcium EOS calcium EOS mg EOS mg EOS calcium EOS calcium EOS mg EOS mg EOS calcium EOS calcium EOS mg EOS mg calcium EOS EOS calcium EOS g EOS mg EOS calcium EOS protein EOS mg EOS mg EOS calcium EOS calcium EOS mg EOS mg calcium EOS calcium EOS EOS vegetarian EOS g protein EOS EOS gourmet EOS vegetarian EOS g times EOS EOS vegetarian EOS gourmet EOS vegetarian EOS gourmet EOS vegetarian EOS vegetarian EOS gourmet times EOS EOS times EOS mm EOS vegetarian EOS gourmet deeanne EOS EOS mm EOS deeanne EOS deeanne EOS mm deeanne EOS EOS mm EOS deeanne deeanne EOS EOS mm EOS deeanne EOS deeanne EOS deeanne\n",
            "\n",
            "> southern corn bread dressing giblets turkey make days advance oz condensed chicken broth sl white bread stale margarine egg slightly beaten onion chopped pepper celery chopped pan drippings cooked poultry seasoning turkey pan cornbread\n",
            "= boil turkey giblets salted water minutes pour water set giblets aside cool cool chop large saucepan combine broth margarine onions celery poultry seasoning boil minutes heat oven degrees grease large baking pan margarine crumble cornbread finely tear white bread small pieces mix corn bread hand add eggs pepper mix well hand pour boiling broth corn bread mixture mix well adding half giblets bake hour basting occasionally pan drippings bake lightly crispy around edges put remaining giblets gravy serve turkey\n",
            "< <SOS> combine preheat oven broiler combine place turkey bread slices cubes shallow rack shallow large roasting shallow bowl mixing dish baking bowl dish dish pan combine cover combine cover microwave plastic turkey bread wrap bag high medium add combine minutes lrb remaining milk milk turkey bag cover sugar egg microwave refrigerate white bread overnight hours mix crumbs overnight turning microwave parsley flakes orange high uncovered juice peel salt milk microwave pour pepper black turkey mixture uncovered high turkey bread minutes lrb cubes mixture rrb minutes cover turkey cover toss cover bake microwave refrigerate f minutes microwave refrigerate serve longer minutes oven EOS serve EOS warm warm EOS EOS center EOS remove EOS sauce EOS separately oven bread EOS bread pan slices EOS bread EOS serve EOS bread EOS bread EOS bread EOS slices EOS bread EOS bread EOS bread EOS bread EOS bread EOS bread EOS bread EOS bread EOS bread EOS slices EOS bread EOS bread EOS bread EOS slices EOS bread EOS bread EOS bread EOS bread EOS bread EOS slices EOS bread EOS bread EOS bread EOS bread EOS bread EOS bread EOS bread EOS bread EOS bread EOS bread EOS bread EOS bread EOS bread EOS bread EOS bread EOS bread EOS bread EOS bread EOS bread EOS bread EOS bread EOS bread EOS lrb EOS bread EOS bread EOS bread EOS rrb bread EOS EOS toasted EOS rrb bread toasted EOS bread bread toasted EOS slices bread toasted EOS bread bread toasted EOS lrb bread toasted makes EOS bread toasted EOS rrb bread toasted EOS bread EOS dish bread toasted EOS lrb bread toasted makes EOS bread toasted EOS rrb EOS servings EOS rrb EOS bread EOS slices EOS serve EOS bread EOS warm EOS lrb EOS dish makes wrv EOS dish rrb EOS EOS fat EOS rrb rrb EOS EOS lrb EOS rrb makes f EOS lrb rrb oven EOS serving rrb EOS EOS rrb EOS rrb EOS minutes EOS bake EOS rrb minutes f EOS bake minutes f minutes oven minutes oven EOS serve EOS warm minutes min EOS serve EOS room EOS warm temperature temp EOS fat EOS room EOS g temperature temp cholesterol EOS EOS fat g EOS EOS g EOS protein EOS g g gm g EOS fat carbohydrates EOS g gm mg gm mg EOS cholesterol EOS sodium mg EOS EOS mg EOS vegetarian sodium EOS EOS vegetarian EOS gm EOS cookbook fat gm EOS echo EOS vegetarian moderator EOS EOS cookbook EOS echo EOS cookbook EOS echo EOS moderator moderator EOS netnode EOS EOS vegetarian netnode EOS EOS times EOS gm EOS mm fat EOS deeanne EOS EOS deeanne EOS deeanne EOS mm deeanne EOS EOS mm EOS deeanne EOS container EOS mm EOS deeanne EOS deeanne EOS time EOS time EOS mm EOS time EOS deeanne EOS time EOS container EOS time EOS refrigerator EOS serve EOS time EOS immediately EOS time EOS cal EOS dish g EOS EOS lrb EOS fat wrv EOS EOS rrb rrb EOS EOS serve EOS rrb EOS warm EOS cal EOS room g EOS EOS butter temperature temp EOS busters EOS fat EOS gm pam EOS cholesterol fat dish EOS gm mg mg EOS EOS g EOS cholesterol EOS fat EOS mg mg EOS EOS g protein EOS EOS sodium EOS mg EOS mg EOS cholesterol EOS sodium EOS mg mg EOS EOS sodium EOS vegetarian EOS times mg EOS EOS mm EOS vegetarian deeanne EOS EOS vegetarian EOS deeanne EOS mm EOS deeanne EOS mm deeanne EOS EOS milligrams EOS sodium EOS deeanne\n",
            "\n",
            "> oriental mushroom soup country living small whole treeear mushrooms chicken breast soy sauce water oriental sesame oil slices fresh gingerroot oz fresh shiitake mushrooms alt stemmed large shrimp shell fresh spinach leaves rinsed rinsed stems removed sliced bamboo shoots oz package enoki chopped green onions mushrooms oz package dried\n",
            "= quart saucepan heat chicken water gingerroot salt boiling high heat reduce heat cover simmer minutes chicken tender add shrimp cook pink slotted spatula transfer chicken shrimp separate bowls set aside cool enough handle meanwhile strain broth fine sieve cheesecloth return saucepan add bamboo shoots green onions dried mushrooms soy sauce sesame oil remove discard skin bones chicken cut meat inch strips add chicken shiitake mushrooms broth saucepan heat boiling high heat reduce heat low cook minutes shell devein shrimp add shrimp broth mixture along spinach enok mushrooms heat boiling high heat serve immediately\n",
            "< <SOS> combine heat oil wok large oil large hot add wok large hot add wok hot large skillet pot add wok hot large skillet deep add deepfry fryer pot chicken oil oil hot oil batches golden lightly oil wok browned golden brown oil brown remove hot golden oil slotted brown remove spoon bowl oil heat set reserve oil stir oil remaining aside wok hot oil oil marinade wok combine hot large oil ingredients large oil except bowl hot large add stir skillet frying well coat chicken oil chicken oil cover blended wok oil marinade pieces wok large large heat skillet nonstick large heat skillet baking oil wok dish sheet hot high nonstick wok nonstick combine heat large oil remaining ingredients oil skillet enough hold oil water oil large wok water oil heat large skillet nonstick skillet frying skillet nonstick pan wok skillet frying large heat pan skillet oil hot mediumhigh medium oil add high heat oil chicken hot wok hot large stirfry pieces skillet nonstick time stirfry skillet iron minutes minute skillet pan remove lightly hot add mediumhigh hot chicken oil add oil hot oil stirfry pieces time stirfry hot oil hot oil minutes minute hot oil remove turn hot add heat coat chicken onion add wok garlic stirfry stirfry pieces minutes seconds time stirfry minutes minute add remove heat oil turn remove oil wok wok slotted spoon spatula add heat spoon remove oil hot oil slotted batter chicken spoon spatula pieces mixture wok reserve serving chicken oil add set heat oil remaining wok skillet oil tablespoon wok mediumhigh oil water heat oil oil wok hot heat oil heat wok hot oil stir hot oil oil fry hot wok minutes chicken hot wok pieces oil stir remove heat oil fry sesame oil seeds minute seconds soy serve add turn EOS hot sauce oil serve return EOS serves wok chicken rice EOS EOS bowls wok pan EOS garnish wok cook cilantro green minutes seconds onions onion EOS leaves EOS serve EOS cilantro EOS rice EOS serve EOS noodles EOS rice EOS rice EOS noodles EOS noodles EOS rice EOS lrb EOS noodles rice wrv EOS dish rrb EOS rrb EOS rrb EOS rrb EOS EOS dish EOS lrb makes rrb EOS rrb EOS los serving servings angeles grain rrb EOS EOS angeles EOS rrb times pieces EOS oil EOS lrb EOS lrb makes use rrb use less oil EOS cups rrb wok rrb EOS rrb deep EOS lrb fryer fat use makes EOS serving less vegetable oil peeler EOS oil rrb EOS rrb oil rrb EOS oil EOS rrb EOS EOS rrb dish rrb EOS lrb wok makes EOS lrb wok use EOS bodle pork rrb rrb EOS EOS add rrb pork water soy rrb pork sauce mixture sauce needed water lrb EOS rice use minutes sauce stock rrb per less bean rrb person curd sauce rrb EOS EOS serve rrb EOS EOS hot rrb EOS EOS rice rrb EOS EOS lrb rrb EOS wrv oil rrb rice rrb dish rrb EOS rrb EOS dish rrb EOS rice EOS noodles EOS lrb makes minutes EOS lrb rrb preparation serving EOS rrb minutes rrb EOS rrb EOS rrb preparation dish rrb minutes rrb EOS makes rrb EOS EOS serving dish EOS EOS dish EOS dish EOS lrb EOS lrb f makes EOS makes EOS rrb rrb EOS rrb EOS EOS makes EOS bodle EOS rrb EOS chicken EOS dish EOS wings EOS lrb EOS time EOS dish EOS time EOS lrb\n",
            "\n",
            "> swedish cabbage rolls cabbage leaves lean ground beef beaten eggs minute rice milk oz tomato sauce chopped onion brown sugar pepper lemon juice salt worcestershire sauce\n",
            "= immerse cabbage leaves large kettle boiling water minutes drain combine eggs milk onion salt pepper beef rice place cup meat mixture center leaf fold sides roll ends meat secure toothpick place slow cooker combine rest ingredients pour cabbage rolls\n",
            "< <SOS> combine cook cabbage beef onion brown onion water according minutes onion beef drain tender package directions drain remove package drain heat meat set combine cool water stir drain drain cool cut drain drain cut set reserving liquid cup pieces meat liquid broth strips pieces chop cut cut place cabbage meat cabbage fine thin half add fine remove cut add sieve mix add onion milk sugar salt onion cabbage pepper sugar salt stir well blended pepper milk pour add cook stir salt cabbage well blended mixture cook pepper taste minutes stirring EOS cook stir stirring EOS cover simmer cook constantly thickened low minutes bubbly serve rice EOS EOS stirring occasionally constantly EOS stirring occasionally frequently add serve EOS add EOS rice salt noodles EOS add cook cover pepper taste cook simmer minutes stirring constantly minute minutes min stir EOS EOS serve rice EOS EOS add noodles cabbage EOS serve mixture cook EOS rice minutes stirring cook stir cook gently sauce occasionally mix fold minutes stir egg cheese minutes till mixture serve whites mixture EOS immediately serve spoon EOS cal mixture cabbage g EOS mixture serve EOS g fat prot fat carb EOS g fat carb butter mg butter mg sod calcium sod calcium EOS mg EOS mg EOS mg calcium EOS EOS g fat protein EOS mg calcium EOS g gm fat carbohydrates EOS gm gm mg fat carbohydrates EOS sodium gm mg EOS calcium mg EOS EOS vegetarian EOS mg EOS vegetarian calcium EOS EOS gourmet EOS vegetarian EOS vegetarian EOS mm EOS times EOS mm deeanne EOS EOS mm EOS deeanne deeanne EOS EOS mm EOS deeanne deeanne EOS EOS mm EOS gm deeanne EOS carbohydrates EOS EOS gm EOS gm carbohydrates EOS fat EOS EOS gm EOS gm gm EOS EOS sodium fat carbohydrates EOS mg gm EOS EOS calcium EOS gm EOS mg gm EOS EOS calcium EOS gm EOS mg EOS g EOS calcium fat EOS EOS mg g EOS calcium EOS EOS fat EOS g EOS gm fat protein saturated carbohydrates g gm mg g fat carbohydrates protein sodium gm mg gm mg sodium EOS sodium EOS EOS gm EOS mg fat carbohydrates sodium EOS gm mg gm mg EOS calcium EOS sodium EOS mg EOS gm fat carbohydrates calcium EOS gm mg EOS gm carbohydrates fat sodium calcium gm mg gm mg EOS sodium sodium EOS EOS gm mg EOS fat carbohydrates EOS g fat protein gm EOS g gm mg gm fat carbohydrates carbohydrates saturated gm mg gm mg sodium EOS sodium EOS EOS mg EOS gm fat carbohydrates EOS sodium gm EOS gm EOS EOS sodium EOS sodium EOS mg EOS mg EOS cholesterol calcium EOS EOS mg EOS gm carbohydrates fat sodium calcium gm mg gm mg sodium EOS sodium EOS EOS gm EOS gm fat carbohydrates fat carbohydrates gm mg gm mg sodium EOS sodium EOS EOS gm mg EOS fat gm EOS vegetarian fat carbohydrates EOS times EOS mm gm mg deeanne EOS sodium calcium EOS deeanne EOS deeanne EOS mm EOS mm deeanne sylvia deeanne sylvia steiger EOS EOS mm deeanne EOS EOS rsb EOS deeanne EOS mm deeanne sylvia EOS mm EOS deeanne steiger deeanne EOS deeanne EOS deeanne EOS mm EOS mm deeanne sylvia deeanne EOS EOS deeanne EOS mm deeanne EOS EOS mm deeanne sylvia EOS deeanne steiger EOS EOS mm deeanne EOS EOS mm EOS deeanne EOS mm deeanne EOS EOS mm deeanne EOS EOS deeanne EOS mm EOS deeanne deeanne EOS EOS mm deeanne EOS EOS deeanne EOS mm EOS deeanne deeanne EOS EOS mm EOS deeanne EOS deeanne\n",
            "\n",
            "> sunshine soup squash cooked mashed rosemary onions chopped chicken stock celery chopped black pepper clove garlic minced skim milk\n",
            "= garnish nutmeg combine ingredients except milk soup pot cook onions celery tenderremove heat add milk sprinkle nutmeg serve immediately\n",
            "< <SOS> cook combine beans first ingredients four ingredients soup ingredients mix large saucepan remaining well saucepan large mix blended ingredients broth add pour water soup mixture chicken mix broth bring saucepan well thoroughly bring add bring simmer chicken turkey boil soup mixture pieces broth mixture mix turkey cook simmer pieces cover well thoroughly microwave simmer turkey desired EOS cover cover place turkey large microwave refrigerate shallow bowl rack baking cover add dish sheet bake cover turkey remaining ingredients broth microwave bake cover mixture f degrees cook toss microwave simmer coat well low stirring coated cover low thickened bubbly minutes refrigerate microwave EOS serve return serve EOS hot EOS cooked serve remove remove serve EOS immediately heat turkey cool reserve EOS cal remaining juices g EOS EOS g run serve EOS chicken fat carb EOS sauce mg butter EOS separately EOS sauce EOS desired EOS dish EOS garnish EOS garnish parsley lemon parsley lemon slices wedges slices wedges EOS serve EOS serve EOS immediately EOS immediately EOS cal EOS cal g EOS g EOS EOS fat EOS g EOS chol EOS fat EOS mg EOS mg cholesterol EOS cholesterol sodium EOS gm EOS mg fat carbohydrates sodium calcium gm mg gm mg EOS sodium EOS calcium mg EOS EOS mg EOS vegetarian calcium sod EOS times EOS mg EOS mm EOS vegetarian deeanne EOS EOS mm deeanne EOS EOS deeanne EOS mm EOS deeanne deeanne EOS EOS mm EOS deeanne deeanne EOS EOS deeanne EOS deeanne EOS mm EOS mm deeanne EOS deeanne EOS EOS deeanne EOS mm EOS deeanne EOS mm EOS deeanne EOS mm deeanne EOS EOS mm EOS deeanne deeanne EOS EOS mm EOS deeanne deeanne EOS EOS mm EOS deeanne EOS deeanne EOS mm EOS mm deeanne EOS deeanne EOS EOS deeanne EOS deeanne EOS mm EOS mm deeanne EOS EOS deeanne EOS rsb EOS mm deeanne sylvia EOS mm EOS steiger deeanne EOS EOS genie EOS cooking EOS echo thesteigers food EOS moderator EOS wine netnode EOS EOS cookbook EOS echo EOS deeanne EOS mm EOS moderator deeanne EOS netnode EOS EOS deeanne EOS deeanne EOS mm EOS mm deeanne EOS deeanne EOS EOS deeanne EOS deeanne EOS time EOS mm EOS time deeanne EOS EOS time EOS deeanne EOS time EOS mm deeanne EOS EOS use EOS cup EOS deeanne EOS water EOS mm deeanne EOS EOS make EOS deeanne EOS mm deeanne EOS EOS mm deeanne sylvia EOS deeanne EOS steiger EOS mm EOS deeanne genie EOS EOS mm EOS deeanne deeanne EOS EOS mm deeanne EOS EOS deeanne EOS deeanne EOS deeanne EOS mm EOS mm EOS deeanne deeanne EOS EOS deeanne EOS mm deeanne EOS EOS mm EOS deeanne EOS deeanne EOS mm EOS mm deeanne EOS deeanne sylvia EOS deeanne EOS steiger EOS mm genie EOS deeanne EOS EOS ci EOS deeanne EOS mm deeanne EOS EOS mm deeanne sylvia EOS deeanne steiger EOS EOS mm deeanne sylvia EOS mm deeanne EOS steiger EOS EOS deeanne EOS deeanne EOS mm EOS deeanne deeanne EOS EOS mm deeanne EOS EOS deeanne EOS mm EOS ci deeanne sylvia EOS cookbook EOS steiger EOS one EOS serving genie EOS EOS time EOS deeanne EOS time EOS time EOS use EOS use EOS within EOS cooking inch two EOS per serving person weeks days EOS rsb EOS serve EOS mm EOS warm EOS deeanne EOS room EOS mm EOS container deeanne EOS EOS keeps EOS gm EOS milligrams EOS sodium carbohydrates EOS EOS milligrams EOS gm EOS sodium carbohydrates gm EOS mg EOS milligrams EOS calcium EOS sodium\n",
            "\n",
            "> oatmeal currant scones country cooking oldfashioned rolled oats baking soda unsifted allpurpose flour vegetable shortening baking powder dried currants sugar buttermilk salt butter melted\n",
            "= heat oven f grease large baking sheet set aside rolled oats large bowl combine flour remaining plus tablespoons rolled oats baking powder sugar salt baking soda pastry blender knives cut shortening mixture resembles coarse crumbs stir currants add buttermilk dry ingredients mix lightly fork mixture clings together forms soft dough turn dough onto lightly floured surface knead gently times divide dough half lightly floured rolling pin roll one half dough inch round cut wedges repeat remaining half dough place scones inch apart greased baking sheet pierce tops tines fork brush tops melted butter sprinkle reserved oats bake scones minutes golden brown serve warm\n",
            "< <SOS> preheat mix ingredients flour sugar baking together except powder soda baking salt salt cinnamon cinnamon baking powder soda salt together large mixing cinnamon cut shortening butter bowl well combine mix mixture crumbly butter egg butter eggs oil water brown sugar oil mix sugar honey dry well vanilla egg mix combine ingredients mixture mix butter flour dry mixture oil butter dry egg mix ingredients mixture mix butter well dry mixture egg well butter mixture mix mixture oil well dry mix alternately ingredients milk milk buttermilk oil mix mix vanilla well thoroughly vanilla egg combined blended mix vanilla drop spoon stir add batter greased dough teaspoonfuls muffin loaf batter onto pans pan ungreased greased cookie baking bake cover refrigerate pan sheets sheet bake aluminum overnight least foil pan minutes f bake cook minutes hour minutes medium minutes f minutes heat minutes oven minutes stirring minutes hour occasionally constantly EOS minutes wooden minutes EOS turn wooden mixture oven onto bubbles boils spoon wooden remove turn spoon pick heat pan heat pan bake cook heat cool minutes stirring completely wire rack racks EOS pan EOS store rack EOS airtight refrigerator EOS rack EOS overnight container tins EOS serving EOS place EOS overnight EOS store EOS serving refrigerator airtight EOS store EOS container airtight refrigerator EOS store EOS overnight container tins EOS container EOS serving EOS refrigerator EOS store EOS overnight airtight refrigerator EOS serving EOS overnight EOS store EOS day airtight freezer EOS use EOS within EOS container inch months EOS container EOS electric EOS serve warm EOS mixer blender food EOS EOS container EOS electric EOS container mixer blender EOS electric food container EOS beat EOS combine eggs cream cheese remaining ingredients milk syrup butter ingredients sugar vanilla saucepan mix mixing cook bring bowl well boil simmer stirring medium stirring cook heat high stirring minutes heat minutes stirring stir stirring mixture corn pineapple thickened smooth mixture chunks syrup mixture cook cool pour cook room store stirring stir airtight covered temperature temp EOS turn container jar mixture onto EOS mixture waxed serving bowl quart plate dish casserole microwave safe high EOS top minutes lrb remaining EOS mixture EOS whipped mixture EOS serve serve EOS EOS serve warm EOS warm immediately EOS serve warm immediately EOS serve warm immediately EOS store refrigerator freezer EOS cal EOS containers EOS weeks EOS serving EOS weeks EOS serving EOS serve EOS serve EOS warm EOS warm EOS room EOS room EOS ice temperature temp cream EOS EOS fat EOS ice EOS gm cream EOS cholesterol carbohydrates EOS g EOS fat gm EOS mg g mg g fat EOS EOS cholesterol g mg mg g EOS mg fat EOS EOS mg g mg EOS mg EOS mg EOS mg EOS mg EOS sodium EOS g EOS fat mg EOS mg gm EOS vegetarian EOS cookbook cholesterol gm EOS echo EOS gm moderator EOS EOS fat EOS mm gm EOS EOS deeanne EOS g EOS mm EOS genie EOS deeanne thesteigers food EOS lrb EOS sylvia EOS genie EOS steiger thesteigers food EOS rrb EOS gm wine stores fat carbohydrates EOS rrb gm EOS gm EOS EOS gm EOS cookbook EOS echo gm EOS moderator EOS EOS gm EOS echo netnode EOS moderator EOS EOS cookbook EOS echo EOS echo moderator EOS moderator echo EOS cookbook netnode EOS EOS echo EOS cookbook moderator EOS EOS echo EOS cookbook moderator EOS EOS echo EOS echo moderator EOS moderator EOS EOS echo EOS echo EOS moderator EOS moderator EOS netnode EOS g fat EOS EOS vegetarian EOS times EOS g EOS mm EOS mm deeanne sylvia sylvia EOS\n",
            "\n",
            "> summer squash potato saute butter margarine sliced md summer squash sliced minced fresh persley sm red potatoes thinly salt pepper taste\n",
            "= skillet melt butter medium heat saute squash potatoes tender sprinkle parsley salt pepper taste servings\n",
            "< <SOS> cut place potatoes squash potatoes large saucepan bowl large baking dish sheet add cover microwave water onion potatoes microwave cover onion onions parsley salt microwave bring boil boiling pepper paprika pepper cover reduce simmer microwave cook mix cover low medium microwave cook low medium minutes heat minutes heat heat hours minutes stirring tender minutes potatoes tender occasionally often drain EOS minutes mixture EOS add boils thickens remaining potatoes EOS cooking cook continue EOS liquid cooking cook cooking absorbed minutes potatoes EOS place tender soft dish potatoes baking microwave cover microwave safe minutes high oven minutes seconds minutes lrb rrb minutes turn add potatoes remaining rrb stirring rrb occasionally ingredients cup rrb minutes stir serve rrb stir EOS warm occasionally remaining EOS room ingredients cup rrb prevent water broth burning sticking mixture rrb rrb cook stir serve return cook minutes stirring warm EOS constantly sauce EOS bowls EOS garnished thickens boils parsley chopped thickens serve parsley green EOS desired onions onion EOS serve EOS immediately EOS chopped EOS cal EOS dish g EOS EOS lrb EOS fat wrv EOS EOS chol rrb EOS EOS rrb EOS salad EOS dressing EOS microwave EOS vegetables covered cooking EOS lrb times minutes EOS grams EOS salad grams rrb EOS rrb EOS salad EOS rrb EOS lrb EOS salad grams makes EOS dressing servings cups grams cholesterol rrb EOS milligrams grams grams fat EOS rrb grams milligrams EOS salad EOS dressing cholesterol sodium EOS lrb EOS dish grams EOS EOS dish EOS rrb grams rrb EOS cal grams EOS g EOS EOS dish EOS g carb fat fat protein EOS g g grams fat carb fat grams butter fat fat grams grams milligrams cholesterol sodium fat carbohydrate grams milligrams EOS milligrams milligrams EOS EOS cholesterol EOS milligrams EOS milligrams EOS milligrams EOS milligrams EOS sodium EOS milligrams milligrams EOS EOS sodium EOS milligrams EOS milligrams EOS milligrams EOS sodium EOS sodium milligrams EOS EOS milligrams EOS milligrams EOS milligrams EOS milligrams EOS sodium EOS milligrams EOS milligrams EOS milligrams EOS sodium EOS milligrams EOS milligrams EOS milligrams EOS sodium EOS cholesterol EOS milligrams EOS milligrams EOS cholesterol EOS sodium EOS milligrams EOS milligrams EOS sodium EOS milligrams EOS milligrams EOS sodium EOS milligrams EOS milligrams EOS sodium EOS cholesterol EOS mg EOS milligrams EOS cholesterol EOS sodium EOS mg EOS g EOS fat EOS calcium mg g g EOS cholesterol EOS EOS g EOS protein g mg g gm EOS sodium fat carbohydrates mg EOS gm mg gm mg EOS sodium fat carbohydrates mg EOS EOS gm gm fat EOS gm fat gm gm mg gm fat EOS sodium gm mg mg EOS EOS g EOS cholesterol EOS protein mg EOS g gm mg g fat carbohydrates EOS fat gm mg gm mg EOS sodium fat carbohydrates mg EOS gm mg EOS gm EOS calcium fat EOS EOS mg EOS gm gm mg EOS cholesterol fat EOS gm EOS mg EOS EOS gm EOS gm fat carbohydrates fat carbohydrates gm EOS gm mg EOS gm EOS sodium fat carbohydrates mg EOS gm EOS gm mg EOS gm sodium EOS fat EOS EOS gm EOS gm carbohydrates fat fat carbohydrates gm mg EOS sodium gm mg mg EOS sodium calcium EOS g EOS mg fat protein EOS sodium g gm mg gm fat carbohydrates cholesterol carbohydrates gm mg gm mg sodium EOS EOS sodium EOS g mg EOS fat protein EOS vegetarian g gm EOS vegetarian EOS vegetarian fat carbohydrates EOS times EOS vegetarian EOS mm cookbook gourmet deeanne EOS EOS cookbook EOS deeanne EOS echo EOS mm moderator sometime\n",
            "\n"
          ]
        }
      ],
      "source": [
        "def alchemy_live(encoder, decoder, n=3): #Function to demonstrate a few examples of alchemy decoding. Also a reference to Dire Straits' outstanding performance at the Hammersmith Odeon.\n",
        "    for i in range(n):\n",
        "        pair = random.choice(pairs)\n",
        "        print('>', pair[0])\n",
        "        print('=', pair[1])\n",
        "        output_words = alchemy_inference(encoder, decoder, pair[0], input_lang, output_lang)\n",
        "        output_sentence = ' '.join(output_words)\n",
        "        print('<', output_sentence)\n",
        "        print('')\n",
        "\n",
        "alch = EncoderRNN(input_lang.n_words, hidden_size).to(device)\n",
        "alch_de = AttnDecoderRNN(hidden_size, output_lang.n_words, dropout_p=0.1).to(device)\n",
        "\n",
        "#Load model state dictionaries\n",
        "alch.load_state_dict(torch.load(\"Checkpoints/Attention/attnencoder60000.pt\"))\n",
        "alch_de.load_state_dict(torch.load(\"Checkpoints/Attention/attndecoder60000.pt\"))\n",
        "\n",
        "alchemy_live(alch, alch_de)"
      ]
    },
    {
      "attachments": {},
      "cell_type": "markdown",
      "metadata": {},
      "source": [
        "## Analysis"
      ]
    },
    {
      "cell_type": "code",
      "execution_count": 182,
      "metadata": {},
      "outputs": [
        {
          "data": {
            "image/png": "[encoded data removed]",
            "text/plain": [
              "<Figure size 640x480 with 1 Axes>"
            ]
          },
          "metadata": {},
          "output_type": "display_data"
        }
      ],
      "source": [
        "from matplotlib import pyplot as plt\n",
        "\n",
        "#Graph losses of all model trainings\n",
        "fig, ax = plt.subplots()\n",
        "vanilla_train = np.load(\"Logs/vanilla60000loss.npy\")\n",
        "vanilla_test = np.load(\"Logs/vanilla60000val.npy\")\n",
        "v_test_loss, = ax.plot(vanilla_train, label = \"Vanilla\", color='#be3a34')\n",
        "v_dev_loss, = ax.plot(vanilla_test, label = \"Vanilla (Validation)\", color='#be3a34')\n",
        "v_dev_loss.set_dashes([1,1,3,1])\n",
        "attention_train = np.load(\"Logs/attention60000loss.npy\")\n",
        "attention_validation = np.load(\"Logs/attention60000val.npy\")\n",
        "a_train_loss, = ax.plot(attention_train, label = \"Attention\", color='#390080')\n",
        "a_dev_loss, = ax.plot(attention_validation, label = \"Attention (Validation)\", color='#390080')\n",
        "a_dev_loss.set_dashes([1,1,3,1])\n",
        "ae_train = np.load(\"Logs/autoencoder60000loss.npy\")\n",
        "ae_val = np.load(\"Logs/autoencoder60000val.npy\")\n",
        "ae_t_loss, = ax.plot(ae_train, label = \"Autoencoder\", color = \"#28B85E\")\n",
        "ae_val_loss, = ax.plot(ae_val,  label = \"Autoencoder (Validation)\", color = \"#28B85E\")\n",
        "ae_val_loss.set_dashes([1,1,3,1])\n",
        "ax.set_xticks(ticks=[0, 100, 200, 300, 400, 500, 600], labels=[0, 10000, 20000, 30000, 40000, 50000, 60000], rotation = 20)\n",
        "ax.legend(handlelength=3)\n",
        "plt.xlabel('Iteration')\n",
        "plt.ylabel('Loss')\n",
        "plt.show()\n",
        "\n"
      ]
    },
    {
      "cell_type": "code",
      "execution_count": 186,
      "metadata": {},
      "outputs": [
        {
          "data": {
            "image/png": "[encoded data removed]",
            "text/plain": [
              "<Figure size 640x480 with 1 Axes>"
            ]
          },
          "metadata": {},
          "output_type": "display_data"
        }
      ],
      "source": [
        "#graph losses of pre-training of autoencoders\n",
        "f2, ax2 = plt.subplots()\n",
        "ing_ae_train = np.load(\"Logs/ingredientsae10000loss.npy\")\n",
        "ing_ae_val = np.load(\"Logs/ingredientsae10000val.npy\")\n",
        "rec_ae_train = np.load(\"Logs/recipesae10000loss.npy\")\n",
        "rec_ae_val = np.load(\"Logs/recipesae10000val.npy\")\n",
        "ing_ae_loss, = ax2.plot(ing_ae_train, label = \"Ingredients\", color = \"#F7A217\")\n",
        "ing_ae_val, = ax2.plot(ing_ae_val, label = \"Ingredients (Validation)\", color = \"#F7A217\")\n",
        "ing_ae_val.set_dashes([1,1,3,1])\n",
        "rec_ae_loss, = ax2.plot(rec_ae_train, label = \"Recipes\", color = \"#A20CD2\")\n",
        "rec_ae_val, = ax2.plot(rec_ae_val, label = \"Recipes (Validation)\", color = \"#A20CD2\")\n",
        "rec_ae_val.set_dashes([1,1,3,1])\n",
        "ax2.set_xticks([0,20,40,60,80,100], [0, 2000, 4000, 6000, 8000, 10000], rotation=20)\n",
        "ax2.legend(handlelength=3)\n",
        "plt.xlabel(\"Iteration\")\n",
        "plt.ylabel(\"Loss\")\n",
        "plt.show()"
      ]
    },
    {
      "attachments": {},
      "cell_type": "markdown",
      "metadata": {},
      "source": [
        "# EVALUATION"
      ]
    },
    {
      "attachments": {},
      "cell_type": "markdown",
      "metadata": {},
      "source": [
        "Load all relevant models from their state dictionaries to run inference."
      ]
    },
    {
      "cell_type": "code",
      "execution_count": 187,
      "metadata": {},
      "outputs": [
        {
          "data": {
            "text/plain": [
              "<All keys matched successfully>"
            ]
          },
          "execution_count": 187,
          "metadata": {},
          "output_type": "execute_result"
        }
      ],
      "source": [
        "hidden_size = 256\n",
        "\n",
        "vanilla_encoder = EncoderRNN(input_lang.n_words, hidden_size).to(device)\n",
        "vanilla_decoder = DecoderRNN(hidden_size, output_lang.n_words).to(device)\n",
        "vanilla_encoder.load_state_dict(torch.load(\"Checkpoints/Vanilla/encoder60000.pt\"))\n",
        "vanilla_decoder.load_state_dict(torch.load(\"Checkpoints/Vanilla/decoder60000.pt\"))\n",
        "\n",
        "attn_encoder = EncoderRNN(input_lang.n_words, hidden_size).to(device)\n",
        "attn_decoder = AttnDecoderRNN(hidden_size, output_lang.n_words, dropout_p = 0.1).to(device)\n",
        "attn_encoder.load_state_dict(torch.load(\"Checkpoints/Attention/attnencoder60000.pt\"))\n",
        "attn_decoder.load_state_dict(torch.load(\"Checkpoints/Attention/attndecoder60000.pt\"))\n",
        "\n",
        "ae_encoder = EncoderRNN(input_lang.n_words, hidden_size).to(device)\n",
        "ae_decoder = AttnDecoderRNN(hidden_size, output_lang.n_words, dropout_p = 0.1).to(device)\n",
        "ae_encoder.load_state_dict(torch.load(\"Checkpoints/AE/encoder_fine_tune_60000.pt\"))\n",
        "ae_decoder.load_state_dict(torch.load(\"Checkpoints/AE/decoder_fine_tune_60000.pt\"))\n"
      ]
    },
    {
      "attachments": {},
      "cell_type": "markdown",
      "metadata": {
        "id": "f3DHX7xtzI69"
      },
      "source": [
        "## Quantitative Evaluation\n",
        "\n",
        "Here we define helper functions which allow us to easily calculate metrics for the ingredient recall, extra ingredients added, and use NLTK to calculate the BLEU and METEOR scores."
      ]
    },
    {
      "cell_type": "code",
      "execution_count": 155,
      "metadata": {},
      "outputs": [],
      "source": [
        "from nltk.translate import meteor\n",
        "from nltk import word_tokenize\n",
        "\n",
        "\n",
        "def calculate_metrics(ground_truth, prediction):\n",
        "    ref_tokens = ground_truth.split()\n",
        "    ref_tokens = [ref_tokens]\n",
        "    bleu = sentence_bleu(ref_tokens, prediction)\n",
        "    mt = meteor(ref_tokens, prediction)\n",
        "    recall = ingredient_recall(ground_truth, prediction)\n",
        "    extra = extra_ingredients(ground_truth, prediction, input_lang)\n",
        "    return (bleu, mt, recall, extra)\n",
        "\n",
        "#function to find the fraction of ingredients in the ground truth list which were included in the generated recipe\n",
        "def ingredient_recall(ground_truth, prediction):\n",
        "    recalled = 0\n",
        "    gt = ground_truth.split()\n",
        "    for i in gt:\n",
        "        if i in prediction:\n",
        "            recalled += 1\n",
        "    return recalled/len(gt)\n",
        "\n",
        "#function to find the fraction of ingredients which were wrongly generated (ie. not in the recipe specification)\n",
        "def extra_ingredients(ground_truth, prediction, ingredient_lang):\n",
        "    predicted_ingredients = [word for word in prediction if ingredient_lang.contains(word)]\n",
        "    counting = 0\n",
        "    for ing in predicted_ingredients:\n",
        "        if ing not in ground_truth:\n",
        "            counting += 1\n",
        "    if len(predicted_ingredients) > 0:\n",
        "        return counting/len(predicted_ingredients)\n",
        "    return counting"
      ]
    },
    {
      "attachments": {},
      "cell_type": "markdown",
      "metadata": {},
      "source": [
        "Below are a suite of helper functions to print and neatly format quantitative evaluation."
      ]
    },
    {
      "cell_type": "code",
      "execution_count": 156,
      "metadata": {},
      "outputs": [],
      "source": [
        "def print_stats(bleu, meteor, recall, extras, model_name):\n",
        "    print(model_name)\n",
        "    bleu = sum(bleu)/len(bleu)\n",
        "    meteor = sum(meteor)/len(meteor)\n",
        "    recall = sum(recall)/len(recall)\n",
        "    extras = sum(extras)/len(extras)\n",
        "    print(\"BLEU: {}\".format(bleu))\n",
        "    print(\"Meteor: {}\".format(meteor))\n",
        "    print(\"Recall: {}\".format(recall))\n",
        "    print(\"Extra Ingredients: {}\".format(extras))\n",
        "    print('')\n",
        "\n",
        "def evaluateModel1(encoder, decoder, data):\n",
        "    bleu_scores = []\n",
        "    meteor_scores = []\n",
        "    recall_scores = []\n",
        "    extra_scores = []\n",
        "    for i in data:\n",
        "        src = i[0]\n",
        "        trg = i[1]\n",
        "        output_words = evaluate(encoder, decoder, src)\n",
        "        bleu, meteor, recall, extras = calculate_metrics(trg, prediction=output_words)\n",
        "        bleu_scores.append(bleu)\n",
        "        meteor_scores.append(meteor)\n",
        "        recall_scores.append(recall)\n",
        "        extra_scores.append(extras)\n",
        "    print_stats(bleu_scores, meteor_scores, recall_scores, extra_scores, \"Vanilla\")\n",
        "        \n",
        "\n",
        "def evaluationStatsAttention(encoder, decoder, data):\n",
        "    bleu_scores = []\n",
        "    meteor_scores = []\n",
        "    recall_scores = []\n",
        "    extra_scores = []\n",
        "    for i in data:\n",
        "        src = i[0]\n",
        "        trg = i[1]\n",
        "        output_words, attn = test_attention(encoder, decoder, src)\n",
        "        bleu, meteor, recall, extras = calculate_metrics(trg, prediction=output_words)\n",
        "        bleu_scores.append(bleu)\n",
        "        meteor_scores.append(meteor)\n",
        "        recall_scores.append(recall)\n",
        "        extra_scores.append(extras)\n",
        "    print_stats(bleu_scores, meteor_scores, recall_scores, extra_scores, \"Attention\")\n",
        "\n",
        "def evaluateAE(encoder, decoder, data):\n",
        "    bleu_scores = []\n",
        "    meteor_scores = []\n",
        "    recall_scores = []\n",
        "    extra_scores = []\n",
        "    for i in data:\n",
        "        src = i[0]\n",
        "        trg = i[1]\n",
        "        output_words, attn = test_attention(encoder, decoder, src)\n",
        "        bleu, meteor, recall, extras = calculate_metrics(trg, prediction=output_words)\n",
        "        bleu_scores.append(bleu)\n",
        "        meteor_scores.append(meteor)\n",
        "        recall_scores.append(recall)\n",
        "        extra_scores.append(extras)\n",
        "    print_stats(bleu_scores, meteor_scores, recall_scores, extra_scores, \"Autoencoder\")\n",
        "\n",
        "def evaluateAlch(encoder, decoder, data):\n",
        "    bleu_scores = []\n",
        "    meteor_scores = []\n",
        "    recall_scores = []\n",
        "    extra_scores = []\n",
        "    for i in data:\n",
        "        src = i[0]\n",
        "        trg = i[1]\n",
        "        output_words = alchemy_inference(encoder, decoder, src, input_lang, output_lang)\n",
        "        bleu, meteor, recall, extras = calculate_metrics(trg, prediction=output_words)\n",
        "        bleu_scores.append(bleu)\n",
        "        meteor_scores.append(meteor)\n",
        "        recall_scores.append(recall)\n",
        "        extra_scores.append(extras)\n",
        "    print_stats(bleu_scores, meteor_scores, recall_scores, extra_scores, \"Alchemy\")"
      ]
    },
    {
      "cell_type": "code",
      "execution_count": 196,
      "metadata": {},
      "outputs": [
        {
          "name": "stderr",
          "output_type": "stream",
          "text": [
            "[nltk_data] Downloading package wordnet to\n",
            "[nltk_data]     C:\\Users\\marks\\AppData\\Roaming\\nltk_data...\n",
            "[nltk_data]   Package wordnet is already up-to-date!\n"
          ]
        },
        {
          "name": "stdout",
          "output_type": "stream",
          "text": [
            "Vanilla\n",
            "BLEU: 0.003951392608274158\n",
            "Meteor: 0.10804771575141979\n",
            "Recall: 0.17942708503618124\n",
            "Extra Ingredients: 0.6685190939216168\n",
            "\n",
            "Attention\n",
            "BLEU: 0.004222637089175003\n",
            "Meteor: 0.12340312905548657\n",
            "Recall: 0.20545455563724396\n",
            "Extra Ingredients: 0.6598087597548589\n",
            "\n",
            "Autoencoder\n",
            "BLEU: 0.0034712334274577855\n",
            "Meteor: 0.09382838133237477\n",
            "Recall: 0.15353967611943153\n",
            "Extra Ingredients: 0.6811626838364027\n",
            "\n",
            "Alchemy\n",
            "BLEU: 5.1675195980548687e-05\n",
            "Meteor: 0.14171225429656892\n",
            "Recall: 0.3250151337987397\n",
            "Extra Ingredients: 0.659083980742403\n",
            "\n"
          ]
        }
      ],
      "source": [
        "import warnings\n",
        "warnings.filterwarnings(\"ignore\") #nltk will push a warning if BLEU score of zero found. This is a common occurence, so suppress warnings.\n",
        "nltk.download('wordnet') # Necessary for METEOR score\n",
        "\n",
        "evaluateModel1(vanilla_encoder, vanilla_decoder, test_pairs)\n",
        "evaluationStatsAttention(attn_encoder, attn_decoder, test_pairs)\n",
        "evaluateAE(ae_encoder, ae_decoder, test_pairs)\n",
        "evaluateAlch(attn_encoder, attn_decoder, test_pairs)"
      ]
    },
    {
      "attachments": {},
      "cell_type": "markdown",
      "metadata": {},
      "source": [
        "## Qualitative Evaluation\n",
        "\n",
        "Here I test the performance of my four models on two candidate ingredients lists supplied from Kiddon et. al.'s paper. The ingredients lists are as follows:\n",
        "1. *\"10 oz chopped broccoli, 2 tbsp butter, 2 tbsp flour, 1/2 tsp salt, 1/4 tsp black pepper, 1/4 tsp ground nutmeg, 1 cup milk, 1 1/2 cup shredded swiss cheese, 2 tsp lemon juice, 2 cup cooked cubed turkey, 4 oz mushrooms, 1/4 cup grated Parmesan cheese, 1 can refrigerated biscuits'*.\n",
        "2.  *2 lb cream cheese, 1 3/4 cups sugar, 5 eggs, 15 oreo cookies, 1/2 tsp vanilla, 1/2 tsp almond extract*\n",
        "\n",
        "I modify these recipes to suit the input format that the four models accept."
      ]
    },
    {
      "cell_type": "code",
      "execution_count": 20,
      "metadata": {},
      "outputs": [],
      "source": [
        "candidate_1 = \"chopped broccoli butter flour salt black pepper ground nutmeg milk shredded swiss cheese lemon juice cooked cubed turkey mushrooms grated parmesan cheese refrigerated biscuits\"\n",
        "candidate_2 = \"cream cheese sugar eggs oreo cookies vanilla almond extract\""
      ]
    },
    {
      "cell_type": "code",
      "execution_count": 197,
      "metadata": {},
      "outputs": [
        {
          "name": "stdout",
          "output_type": "stream",
          "text": [
            "Vanilla results:\n",
            "Recipe One: melt butter large frying pan add onion cook stirring constantly minutes add flour cook stirring constantly smooth add milk cook stirring constantly mixture thickens slightly add milk cook stirring constantly mixture thickens slightly add pepper cook stirring constantly mixture thickens slightly add pepper sauce cook stirring constantly mixture thickens slightly thickened serve hot <EOS>\n",
            "Recipe Two: cream butter sugar add eggs one time beating well addition stir vanilla add flour baking powder salt add creamed mixture alternately milk beginning ending flour mixture stir nuts drop teaspoonfuls onto greased baking sheet bake minutes degrees <EOS>\n",
            "\n",
            "Attention results:\n",
            "Recipe One: cook spaghetti according package directions drain well melt butter heavy large skillet medium heat add onion saute minutes add wine cook stirring constantly minutes add wine bring boil reduce heat simmer uncovered minutes stirring occasionally season taste salt pepper serve immediately <EOS>\n",
            "Recipe Two: cream sugar butter add eggs beat well add egg yolks beat well add egg yolks beat well add vanilla beat well add vanilla beat well blended add egg yolks beat well blended add flour beat well blended fold egg whites pour greased inch baking pan bake degrees minutes cake tests done cool minutes remove pans cool completely wire rack <EOS>\n",
            "\n",
            "Autoencoder results:\n",
            "Recipe One: combine flour baking powder salt pepper nutmeg cut butter mixture resembles coarse crumbs add milk make soft dough roll dough inch thick cut inch squares place greased baking sheet bake f minutes golden brown <EOS>\n",
            "Recipe Two: mix ingredients together well blended shape dough inch balls place greased baking sheet bake f minutes <EOS>\n",
            "\n",
            "Alchemy results:\n",
            "Recipe One: <SOS> combine preheat oven broiler melt combine flour first butter margarine ingredients five add large ingredients cup saucepan skillet flour water mix bowl teaspoon large baking sugar bowl saucepan salt teaspoon bring cook mix set aside medium well together bowl heat well cream cheese milk melt add egg butter cheese butter flour mixture yolk yolks add smooth mixture baking add fold flour egg egg cheese mixture yolk mixture pour whites yolk pie greased mixture fold x pie egg cheese plate crust mixture spread bake chill greased buttered firm set x inch cut least hours EOS\n",
            "Recipe Two: <SOS> preheat combine ingredients sugar oven broiler combine melt milk cream butter chocolate sugar ingredients mix except butter double nuts pecans well thoroughly bake shape top pour inch dough pie crust inch ball balls pie plate pan roll shape inch ball bake chill set several roll wrap hours times chill refrigerate hours overnight least overnight set serve overnight set warm whipped serve garnish cream topping room cold EOS\n"
          ]
        }
      ],
      "source": [
        "print(\"Vanilla results:\")\n",
        "v1_words= evaluate(vanilla_encoder, vanilla_decoder, candidate_1)\n",
        "v1_sentence = ' '.join(v1_words)\n",
        "v2_words= evaluate(vanilla_encoder, vanilla_decoder, candidate_2)\n",
        "v2_sentence = ' '.join(v2_words)\n",
        "print(\"Recipe One: {}\".format(v1_sentence))\n",
        "print(\"Recipe Two: {}\".format(v2_sentence))\n",
        "print(\"\")\n",
        "\n",
        "print(\"Attention results:\")\n",
        "a1_words, atn = test_attention(attn_encoder, attn_decoder, candidate_1)\n",
        "a1_sentence = ' '.join(a1_words)\n",
        "a2_words, atn = test_attention(attn_encoder, attn_decoder, candidate_2)\n",
        "a2_sentence = ' '.join(a2_words)\n",
        "print(\"Recipe One: {}\".format(a1_sentence))\n",
        "print(\"Recipe Two: {}\".format(a2_sentence))\n",
        "print(\"\")\n",
        "\n",
        "print(\"Autoencoder results:\")\n",
        "ae1_words, atn = test_attention(ae_encoder, ae_decoder, candidate_1)\n",
        "ae1_sentence = ' '.join(ae1_words)\n",
        "ae2_words, atn = test_attention(ae_encoder, ae_decoder, candidate_2)\n",
        "ae2_sentence = ' '.join(ae2_words)\n",
        "print(\"Recipe One: {}\".format(ae1_sentence))\n",
        "print(\"Recipe Two: {}\".format(ae2_sentence))\n",
        "print(\"\")\n",
        "\n",
        "print(\"Alchemy results:\")\n",
        "al1_words = alchemy_inference(ae_encoder, ae_decoder, candidate_1, input_lang, output_lang)\n",
        "al1_sentence = ' '.join(al1_words)\n",
        "al2_words = alchemy_inference(ae_encoder, ae_decoder, candidate_2, input_lang, output_lang)\n",
        "al2_sentence = ' '.join(al2_words)\n",
        "print(\"Recipe One: {}\".format(al1_sentence))\n",
        "print(\"Recipe Two: {}\".format(al2_sentence))"
      ]
    }
  ],
  "metadata": {
    "accelerator": "GPU",
    "colab": {
      "provenance": []
    },
    "kernelspec": {
      "display_name": "Python 3",
      "name": "python3"
    },
    "language_info": {
      "codemirror_mode": {
        "name": "ipython",
        "version": 3
      },
      "file_extension": ".py",
      "mimetype": "text/x-python",
      "name": "python",
      "nbconvert_exporter": "python",
      "pygments_lexer": "ipython3",
      "version": "3.11.3"
    }
  },
  "nbformat": 4,
  "nbformat_minor": 0
}
